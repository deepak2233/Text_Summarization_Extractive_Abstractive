{
  "cells": [
    {
      "cell_type": "markdown",
      "source": [
        "- It is an unsupervised based method that retrive the subset of the document from the raw data without analyse the meaning that's why it is not popular one nowdays. Here I'm extracting the summarization from the raw day by using text ranking algorithms which is inbuilt in gensim library.\n",
        "  - **Text Ranking(simple graph based tecnique)** : OK So, According to paper, It is graph based ranking model that is used for text preprocessing. [Paper](https://web.eecs.umich.edu/~mihalcea/papers/mihalcea.emnlp04.pdf). I'll explaing little bit here, As we know graph is a container or datastructure that comtainf vertex and edge (V,E). So here conider whole text split into a sentences, then this algorithms build a graph where sentences are the nodes and overlapped words are the link then later on page ranking algorithms are applied. I've performed this algo on our datasets using gensim library.\n",
        "- **Abstractive**\n",
        "  - **Sq2Sq Encoder and Decoder with attension based model:** This one is the 2nd one that is the most popular one. Here I'm plaining to genrate the summarization with tghe use of Sq2Sq model based on word embeddings and provide attention weightage on the input sentences where input should be padded same lenght to get feture matrix. then apply Word2Vec machanism where words are mapped eith real number vector from the vocabulary. The encoder and decoder neural network introduced where input seq passed into encode (LSTM and BiLST based) to genrate a context meaning sentecnces for the decoder.\n",
        "\n",
        "\n",
        "- **Pretrain BART (BERT+GPT):** \n",
        "  - It is a simple pretrain BERT and GPT based Model that we will used with the use of Hugging Face library.\n",
        "\n",
        "- **Datasets Introduction**\n",
        "- **Text Preprocessing**\n",
        "- **Texture Visualization**\n",
        "- **Model Implemetation** \n",
        "- **Accuracy Metrix**\n",
        "\n"
      ],
      "metadata": {
        "id": "yg-6el9V8Dg3"
      }
    },
    {
      "cell_type": "markdown",
      "source": [
        "# **Import Library**"
      ],
      "metadata": {
        "id": "fmmTlqnzI7Zk"
      }
    },
    {
      "cell_type": "code",
      "source": [
        "from google.colab import drive\n",
        "drive.mount('/content/drive')"
      ],
      "metadata": {
        "colab": {
          "base_uri": "https://localhost:8080/"
        },
        "id": "kkDk5qRrbGxW",
        "outputId": "0814ea0f-4dba-433b-e45b-400a0052714d"
      },
      "execution_count": null,
      "outputs": [
        {
          "output_type": "stream",
          "name": "stdout",
          "text": [
            "Drive already mounted at /content/drive; to attempt to forcibly remount, call drive.mount(\"/content/drive\", force_remount=True).\n"
          ]
        }
      ]
    },
    {
      "cell_type": "code",
      "execution_count": null,
      "metadata": {
        "id": "OWBYaupiaXLQ",
        "colab": {
          "base_uri": "https://localhost:8080/"
        },
        "outputId": "f9fb1637-c9fa-4e74-8717-9e741de1871a"
      },
      "outputs": [
        {
          "output_type": "stream",
          "name": "stdout",
          "text": [
            "Requirement already satisfied: contractions in /usr/local/lib/python3.7/dist-packages (0.1.68)\n",
            "Requirement already satisfied: textsearch>=0.0.21 in /usr/local/lib/python3.7/dist-packages (from contractions) (0.0.21)\n",
            "Requirement already satisfied: pyahocorasick in /usr/local/lib/python3.7/dist-packages (from textsearch>=0.0.21->contractions) (1.4.4)\n",
            "Requirement already satisfied: anyascii in /usr/local/lib/python3.7/dist-packages (from textsearch>=0.0.21->contractions) (0.3.0)\n",
            "Requirement already satisfied: lime in /usr/local/lib/python3.7/dist-packages (0.2.0.1)\n",
            "Requirement already satisfied: scikit-learn>=0.18 in /usr/local/lib/python3.7/dist-packages (from lime) (1.0.2)\n",
            "Requirement already satisfied: numpy in /usr/local/lib/python3.7/dist-packages (from lime) (1.21.5)\n",
            "Requirement already satisfied: matplotlib in /usr/local/lib/python3.7/dist-packages (from lime) (3.2.2)\n",
            "Requirement already satisfied: scikit-image>=0.12 in /usr/local/lib/python3.7/dist-packages (from lime) (0.18.3)\n",
            "Requirement already satisfied: scipy in /usr/local/lib/python3.7/dist-packages (from lime) (1.4.1)\n",
            "Requirement already satisfied: tqdm in /usr/local/lib/python3.7/dist-packages (from lime) (4.63.0)\n",
            "Requirement already satisfied: tifffile>=2019.7.26 in /usr/local/lib/python3.7/dist-packages (from scikit-image>=0.12->lime) (2021.11.2)\n",
            "Requirement already satisfied: imageio>=2.3.0 in /usr/local/lib/python3.7/dist-packages (from scikit-image>=0.12->lime) (2.4.1)\n",
            "Requirement already satisfied: pillow!=7.1.0,!=7.1.1,>=4.3.0 in /usr/local/lib/python3.7/dist-packages (from scikit-image>=0.12->lime) (7.1.2)\n",
            "Requirement already satisfied: networkx>=2.0 in /usr/local/lib/python3.7/dist-packages (from scikit-image>=0.12->lime) (2.6.3)\n",
            "Requirement already satisfied: PyWavelets>=1.1.1 in /usr/local/lib/python3.7/dist-packages (from scikit-image>=0.12->lime) (1.2.0)\n",
            "Requirement already satisfied: python-dateutil>=2.1 in /usr/local/lib/python3.7/dist-packages (from matplotlib->lime) (2.8.2)\n",
            "Requirement already satisfied: kiwisolver>=1.0.1 in /usr/local/lib/python3.7/dist-packages (from matplotlib->lime) (1.3.2)\n",
            "Requirement already satisfied: pyparsing!=2.0.4,!=2.1.2,!=2.1.6,>=2.0.1 in /usr/local/lib/python3.7/dist-packages (from matplotlib->lime) (3.0.7)\n",
            "Requirement already satisfied: cycler>=0.10 in /usr/local/lib/python3.7/dist-packages (from matplotlib->lime) (0.11.0)\n",
            "Requirement already satisfied: six>=1.5 in /usr/local/lib/python3.7/dist-packages (from python-dateutil>=2.1->matplotlib->lime) (1.15.0)\n",
            "Requirement already satisfied: threadpoolctl>=2.0.0 in /usr/local/lib/python3.7/dist-packages (from scikit-learn>=0.18->lime) (3.1.0)\n",
            "Requirement already satisfied: joblib>=0.11 in /usr/local/lib/python3.7/dist-packages (from scikit-learn>=0.18->lime) (1.1.0)\n",
            "Requirement already satisfied: shap in /usr/local/lib/python3.7/dist-packages (0.40.0)\n",
            "Requirement already satisfied: packaging>20.9 in /usr/local/lib/python3.7/dist-packages (from shap) (21.3)\n",
            "Requirement already satisfied: scipy in /usr/local/lib/python3.7/dist-packages (from shap) (1.4.1)\n",
            "Requirement already satisfied: tqdm>4.25.0 in /usr/local/lib/python3.7/dist-packages (from shap) (4.63.0)\n",
            "Requirement already satisfied: numpy in /usr/local/lib/python3.7/dist-packages (from shap) (1.21.5)\n",
            "Requirement already satisfied: scikit-learn in /usr/local/lib/python3.7/dist-packages (from shap) (1.0.2)\n",
            "Requirement already satisfied: slicer==0.0.7 in /usr/local/lib/python3.7/dist-packages (from shap) (0.0.7)\n",
            "Requirement already satisfied: cloudpickle in /usr/local/lib/python3.7/dist-packages (from shap) (1.3.0)\n",
            "Requirement already satisfied: numba in /usr/local/lib/python3.7/dist-packages (from shap) (0.51.2)\n",
            "Requirement already satisfied: pandas in /usr/local/lib/python3.7/dist-packages (from shap) (1.3.5)\n",
            "Requirement already satisfied: pyparsing!=3.0.5,>=2.0.2 in /usr/local/lib/python3.7/dist-packages (from packaging>20.9->shap) (3.0.7)\n",
            "Requirement already satisfied: llvmlite<0.35,>=0.34.0.dev0 in /usr/local/lib/python3.7/dist-packages (from numba->shap) (0.34.0)\n",
            "Requirement already satisfied: setuptools in /usr/local/lib/python3.7/dist-packages (from numba->shap) (57.4.0)\n",
            "Requirement already satisfied: python-dateutil>=2.7.3 in /usr/local/lib/python3.7/dist-packages (from pandas->shap) (2.8.2)\n",
            "Requirement already satisfied: pytz>=2017.3 in /usr/local/lib/python3.7/dist-packages (from pandas->shap) (2018.9)\n",
            "Requirement already satisfied: six>=1.5 in /usr/local/lib/python3.7/dist-packages (from python-dateutil>=2.7.3->pandas->shap) (1.15.0)\n",
            "Requirement already satisfied: joblib>=0.11 in /usr/local/lib/python3.7/dist-packages (from scikit-learn->shap) (1.1.0)\n",
            "Requirement already satisfied: threadpoolctl>=2.0.0 in /usr/local/lib/python3.7/dist-packages (from scikit-learn->shap) (3.1.0)\n",
            "Requirement already satisfied: langdetect in /usr/local/lib/python3.7/dist-packages (1.0.9)\n",
            "Requirement already satisfied: six in /usr/local/lib/python3.7/dist-packages (from langdetect) (1.15.0)\n",
            "Requirement already satisfied: rouge in /usr/local/lib/python3.7/dist-packages (1.0.1)\n",
            "Requirement already satisfied: six in /usr/local/lib/python3.7/dist-packages (from rouge) (1.15.0)\n",
            "Requirement already satisfied: transformers in /usr/local/lib/python3.7/dist-packages (4.17.0)\n",
            "Requirement already satisfied: packaging>=20.0 in /usr/local/lib/python3.7/dist-packages (from transformers) (21.3)\n",
            "Requirement already satisfied: requests in /usr/local/lib/python3.7/dist-packages (from transformers) (2.23.0)\n",
            "Requirement already satisfied: tqdm>=4.27 in /usr/local/lib/python3.7/dist-packages (from transformers) (4.63.0)\n",
            "Requirement already satisfied: tokenizers!=0.11.3,>=0.11.1 in /usr/local/lib/python3.7/dist-packages (from transformers) (0.11.6)\n",
            "Requirement already satisfied: sacremoses in /usr/local/lib/python3.7/dist-packages (from transformers) (0.0.49)\n",
            "Requirement already satisfied: numpy>=1.17 in /usr/local/lib/python3.7/dist-packages (from transformers) (1.21.5)\n",
            "Requirement already satisfied: pyyaml>=5.1 in /usr/local/lib/python3.7/dist-packages (from transformers) (6.0)\n",
            "Requirement already satisfied: filelock in /usr/local/lib/python3.7/dist-packages (from transformers) (3.6.0)\n",
            "Requirement already satisfied: regex!=2019.12.17 in /usr/local/lib/python3.7/dist-packages (from transformers) (2019.12.20)\n",
            "Requirement already satisfied: huggingface-hub<1.0,>=0.1.0 in /usr/local/lib/python3.7/dist-packages (from transformers) (0.4.0)\n",
            "Requirement already satisfied: importlib-metadata in /usr/local/lib/python3.7/dist-packages (from transformers) (4.11.2)\n",
            "Requirement already satisfied: typing-extensions>=3.7.4.3 in /usr/local/lib/python3.7/dist-packages (from huggingface-hub<1.0,>=0.1.0->transformers) (3.10.0.2)\n",
            "Requirement already satisfied: pyparsing!=3.0.5,>=2.0.2 in /usr/local/lib/python3.7/dist-packages (from packaging>=20.0->transformers) (3.0.7)\n",
            "Requirement already satisfied: zipp>=0.5 in /usr/local/lib/python3.7/dist-packages (from importlib-metadata->transformers) (3.7.0)\n",
            "Requirement already satisfied: certifi>=2017.4.17 in /usr/local/lib/python3.7/dist-packages (from requests->transformers) (2021.10.8)\n",
            "Requirement already satisfied: idna<3,>=2.5 in /usr/local/lib/python3.7/dist-packages (from requests->transformers) (2.10)\n",
            "Requirement already satisfied: urllib3!=1.25.0,!=1.25.1,<1.26,>=1.21.1 in /usr/local/lib/python3.7/dist-packages (from requests->transformers) (1.24.3)\n",
            "Requirement already satisfied: chardet<4,>=3.0.2 in /usr/local/lib/python3.7/dist-packages (from requests->transformers) (3.0.4)\n",
            "Requirement already satisfied: six in /usr/local/lib/python3.7/dist-packages (from sacremoses->transformers) (1.15.0)\n",
            "Requirement already satisfied: click in /usr/local/lib/python3.7/dist-packages (from sacremoses->transformers) (7.1.2)\n",
            "Requirement already satisfied: joblib in /usr/local/lib/python3.7/dist-packages (from sacremoses->transformers) (1.1.0)\n"
          ]
        }
      ],
      "source": [
        "import warnings\n",
        "warnings.filterwarnings(\"ignore\")\n",
        "import numpy as np\n",
        "import pandas as pd\n",
        "!pip install contractions\n",
        "!pip install lime\n",
        "!pip install shap\n",
        "!pip install langdetect\n",
        "!pip install rouge\n",
        "!pip install transformers"
      ]
    },
    {
      "cell_type": "code",
      "source": [
        "import nltk\n",
        "import nltk\n",
        "nltk.download('stopwords')\n",
        "import nltk\n",
        "nltk.download('wordnet')"
      ],
      "metadata": {
        "id": "DMxFT1--hvlZ",
        "colab": {
          "base_uri": "https://localhost:8080/"
        },
        "outputId": "c9e8db32-9a36-408b-8c65-822cc7c77b8c"
      },
      "execution_count": null,
      "outputs": [
        {
          "output_type": "stream",
          "name": "stdout",
          "text": [
            "[nltk_data] Downloading package stopwords to /root/nltk_data...\n",
            "[nltk_data]   Package stopwords is already up-to-date!\n",
            "[nltk_data] Downloading package wordnet to /root/nltk_data...\n",
            "[nltk_data]   Package wordnet is already up-to-date!\n"
          ]
        },
        {
          "output_type": "execute_result",
          "data": {
            "text/plain": [
              "True"
            ]
          },
          "metadata": {},
          "execution_count": 3
        }
      ]
    },
    {
      "cell_type": "markdown",
      "source": [
        "# **DataSets Introduction**"
      ],
      "metadata": {
        "id": "4272_9tUJA6Q"
      }
    },
    {
      "cell_type": "code",
      "source": [
        "file_name = '/content/cnndm/train.txt.src'"
      ],
      "metadata": {
        "id": "zQ0u_7Wjdnb9"
      },
      "execution_count": null,
      "outputs": []
    },
    {
      "cell_type": "code",
      "source": [
        "file = open(file_name, \"r\")\n",
        "filedata = file.readlines()\n",
        "\n",
        "def read_article(file_name):\n",
        "  sentences = []\n",
        "  file = open(file_name, \"r\")\n",
        "  filedata = file.readlines()\n",
        "  for text in filedata:\n",
        "    sentences.append(text)\n",
        "\n",
        "  return sentences\n",
        "\n"
      ],
      "metadata": {
        "id": "K_f4osPhbnZc"
      },
      "execution_count": null,
      "outputs": []
    },
    {
      "cell_type": "code",
      "source": [
        "train_data = read_article(file_name)"
      ],
      "metadata": {
        "id": "vCiPaDaBdjmI"
      },
      "execution_count": null,
      "outputs": []
    },
    {
      "cell_type": "code",
      "source": [
        "train_data = pd.DataFrame(train_data)"
      ],
      "metadata": {
        "id": "-RP4JTsAdvJo"
      },
      "execution_count": null,
      "outputs": []
    },
    {
      "cell_type": "code",
      "source": [
        "train_data.shape"
      ],
      "metadata": {
        "colab": {
          "base_uri": "https://localhost:8080/"
        },
        "id": "ClbiubmSd3FL",
        "outputId": "82b8516f-5deb-4471-d0af-f86430b92c17"
      },
      "execution_count": null,
      "outputs": [
        {
          "output_type": "execute_result",
          "data": {
            "text/plain": [
              "(50000, 1)"
            ]
          },
          "metadata": {},
          "execution_count": 26
        }
      ]
    },
    {
      "cell_type": "code",
      "source": [
        "train_data = train_data.iloc[:5000,:]"
      ],
      "metadata": {
        "id": "FQIPJvmXPc1Y"
      },
      "execution_count": null,
      "outputs": []
    },
    {
      "cell_type": "code",
      "source": [
        "train_data.head()"
      ],
      "metadata": {
        "colab": {
          "base_uri": "https://localhost:8080/",
          "height": 206
        },
        "id": "GMT8aVWkd_g4",
        "outputId": "008d569f-5911-470a-f03b-449e33e5a43e"
      },
      "execution_count": null,
      "outputs": [
        {
          "output_type": "execute_result",
          "data": {
            "text/plain": [
              "                                                   0\n",
              "0  editor 's note : in our behind the scenes seri...\n",
              "1  london , england -lrb- reuters -rrb- -- harry ...\n",
              "2  minneapolis , minnesota -lrb- cnn -rrb- -- dri...\n",
              "3  baghdad , iraq -lrb- cnn -rrb- -- dressed in a...\n",
              "4  washington -lrb- cnn -rrb- -- doctors removed ..."
            ],
            "text/html": [
              "\n",
              "  <div id=\"df-e7231b40-995a-4f93-bf75-cd8c549be19a\">\n",
              "    <div class=\"colab-df-container\">\n",
              "      <div>\n",
              "<style scoped>\n",
              "    .dataframe tbody tr th:only-of-type {\n",
              "        vertical-align: middle;\n",
              "    }\n",
              "\n",
              "    .dataframe tbody tr th {\n",
              "        vertical-align: top;\n",
              "    }\n",
              "\n",
              "    .dataframe thead th {\n",
              "        text-align: right;\n",
              "    }\n",
              "</style>\n",
              "<table border=\"1\" class=\"dataframe\">\n",
              "  <thead>\n",
              "    <tr style=\"text-align: right;\">\n",
              "      <th></th>\n",
              "      <th>0</th>\n",
              "    </tr>\n",
              "  </thead>\n",
              "  <tbody>\n",
              "    <tr>\n",
              "      <th>0</th>\n",
              "      <td>editor 's note : in our behind the scenes seri...</td>\n",
              "    </tr>\n",
              "    <tr>\n",
              "      <th>1</th>\n",
              "      <td>london , england -lrb- reuters -rrb- -- harry ...</td>\n",
              "    </tr>\n",
              "    <tr>\n",
              "      <th>2</th>\n",
              "      <td>minneapolis , minnesota -lrb- cnn -rrb- -- dri...</td>\n",
              "    </tr>\n",
              "    <tr>\n",
              "      <th>3</th>\n",
              "      <td>baghdad , iraq -lrb- cnn -rrb- -- dressed in a...</td>\n",
              "    </tr>\n",
              "    <tr>\n",
              "      <th>4</th>\n",
              "      <td>washington -lrb- cnn -rrb- -- doctors removed ...</td>\n",
              "    </tr>\n",
              "  </tbody>\n",
              "</table>\n",
              "</div>\n",
              "      <button class=\"colab-df-convert\" onclick=\"convertToInteractive('df-e7231b40-995a-4f93-bf75-cd8c549be19a')\"\n",
              "              title=\"Convert this dataframe to an interactive table.\"\n",
              "              style=\"display:none;\">\n",
              "        \n",
              "  <svg xmlns=\"http://www.w3.org/2000/svg\" height=\"24px\"viewBox=\"0 0 24 24\"\n",
              "       width=\"24px\">\n",
              "    <path d=\"M0 0h24v24H0V0z\" fill=\"none\"/>\n",
              "    <path d=\"M18.56 5.44l.94 2.06.94-2.06 2.06-.94-2.06-.94-.94-2.06-.94 2.06-2.06.94zm-11 1L8.5 8.5l.94-2.06 2.06-.94-2.06-.94L8.5 2.5l-.94 2.06-2.06.94zm10 10l.94 2.06.94-2.06 2.06-.94-2.06-.94-.94-2.06-.94 2.06-2.06.94z\"/><path d=\"M17.41 7.96l-1.37-1.37c-.4-.4-.92-.59-1.43-.59-.52 0-1.04.2-1.43.59L10.3 9.45l-7.72 7.72c-.78.78-.78 2.05 0 2.83L4 21.41c.39.39.9.59 1.41.59.51 0 1.02-.2 1.41-.59l7.78-7.78 2.81-2.81c.8-.78.8-2.07 0-2.86zM5.41 20L4 18.59l7.72-7.72 1.47 1.35L5.41 20z\"/>\n",
              "  </svg>\n",
              "      </button>\n",
              "      \n",
              "  <style>\n",
              "    .colab-df-container {\n",
              "      display:flex;\n",
              "      flex-wrap:wrap;\n",
              "      gap: 12px;\n",
              "    }\n",
              "\n",
              "    .colab-df-convert {\n",
              "      background-color: #E8F0FE;\n",
              "      border: none;\n",
              "      border-radius: 50%;\n",
              "      cursor: pointer;\n",
              "      display: none;\n",
              "      fill: #1967D2;\n",
              "      height: 32px;\n",
              "      padding: 0 0 0 0;\n",
              "      width: 32px;\n",
              "    }\n",
              "\n",
              "    .colab-df-convert:hover {\n",
              "      background-color: #E2EBFA;\n",
              "      box-shadow: 0px 1px 2px rgba(60, 64, 67, 0.3), 0px 1px 3px 1px rgba(60, 64, 67, 0.15);\n",
              "      fill: #174EA6;\n",
              "    }\n",
              "\n",
              "    [theme=dark] .colab-df-convert {\n",
              "      background-color: #3B4455;\n",
              "      fill: #D2E3FC;\n",
              "    }\n",
              "\n",
              "    [theme=dark] .colab-df-convert:hover {\n",
              "      background-color: #434B5C;\n",
              "      box-shadow: 0px 1px 3px 1px rgba(0, 0, 0, 0.15);\n",
              "      filter: drop-shadow(0px 1px 2px rgba(0, 0, 0, 0.3));\n",
              "      fill: #FFFFFF;\n",
              "    }\n",
              "  </style>\n",
              "\n",
              "      <script>\n",
              "        const buttonEl =\n",
              "          document.querySelector('#df-e7231b40-995a-4f93-bf75-cd8c549be19a button.colab-df-convert');\n",
              "        buttonEl.style.display =\n",
              "          google.colab.kernel.accessAllowed ? 'block' : 'none';\n",
              "\n",
              "        async function convertToInteractive(key) {\n",
              "          const element = document.querySelector('#df-e7231b40-995a-4f93-bf75-cd8c549be19a');\n",
              "          const dataTable =\n",
              "            await google.colab.kernel.invokeFunction('convertToInteractive',\n",
              "                                                     [key], {});\n",
              "          if (!dataTable) return;\n",
              "\n",
              "          const docLinkHtml = 'Like what you see? Visit the ' +\n",
              "            '<a target=\"_blank\" href=https://colab.research.google.com/notebooks/data_table.ipynb>data table notebook</a>'\n",
              "            + ' to learn more about interactive tables.';\n",
              "          element.innerHTML = '';\n",
              "          dataTable['output_type'] = 'display_data';\n",
              "          await google.colab.output.renderOutput(dataTable, element);\n",
              "          const docLink = document.createElement('div');\n",
              "          docLink.innerHTML = docLinkHtml;\n",
              "          element.appendChild(docLink);\n",
              "        }\n",
              "      </script>\n",
              "    </div>\n",
              "  </div>\n",
              "  "
            ]
          },
          "metadata": {},
          "execution_count": 28
        }
      ]
    },
    {
      "cell_type": "code",
      "source": [
        "train_data.shape"
      ],
      "metadata": {
        "colab": {
          "base_uri": "https://localhost:8080/"
        },
        "id": "wCVQrfZgQZdR",
        "outputId": "864caf57-7fda-49fe-ebed-58cf213bea1d"
      },
      "execution_count": null,
      "outputs": [
        {
          "output_type": "execute_result",
          "data": {
            "text/plain": [
              "(5000, 1)"
            ]
          },
          "metadata": {},
          "execution_count": 29
        }
      ]
    },
    {
      "cell_type": "code",
      "source": [
        "label_file = '/content/cnndm/test.txt.tgt.tagged'"
      ],
      "metadata": {
        "id": "WXNG443feOL8"
      },
      "execution_count": null,
      "outputs": []
    },
    {
      "cell_type": "code",
      "metadata": {
        "id": "SHx02jMs34w-"
      },
      "source": [
        "\n",
        "def read_label(file_name):\n",
        "  label = []\n",
        "  file = open(file_name, \"r\")\n",
        "  filedata = file.readlines()\n",
        "  for text in filedata:\n",
        "    label.append(text)\n",
        "\n",
        "  return label\n",
        "\n"
      ],
      "execution_count": null,
      "outputs": []
    },
    {
      "cell_type": "code",
      "metadata": {
        "id": "4dPy6wdg9ybO"
      },
      "source": [
        "label = (read_label(label_file))"
      ],
      "execution_count": null,
      "outputs": []
    },
    {
      "cell_type": "code",
      "metadata": {
        "colab": {
          "base_uri": "https://localhost:8080/",
          "height": 70
        },
        "id": "sOf98mIrDKqe",
        "outputId": "04788c09-2fbe-4162-fe68-6c2c2d4889fd"
      },
      "source": [
        "label[0]"
      ],
      "execution_count": null,
      "outputs": [
        {
          "output_type": "execute_result",
          "data": {
            "text/plain": [
              "\"<t> marseille prosecutor says `` so far no videos were used in the crash investigation '' despite media reports . </t> <t> journalists at bild and paris match are `` very confident '' the video clip is real , an editor says . </t> <t> andreas lubitz had informed his lufthansa training school of an episode of severe depression , airline says . </t>\\n\""
            ],
            "application/vnd.google.colaboratory.intrinsic+json": {
              "type": "string"
            }
          },
          "metadata": {},
          "execution_count": 33
        }
      ]
    },
    {
      "cell_type": "code",
      "metadata": {
        "id": "SQEslG5u9hQo"
      },
      "source": [
        "train_label = pd.DataFrame(label)"
      ],
      "execution_count": null,
      "outputs": []
    },
    {
      "cell_type": "code",
      "metadata": {
        "colab": {
          "base_uri": "https://localhost:8080/"
        },
        "id": "_UDaqMbGIso9",
        "outputId": "9d0fcf48-f133-4f99-b02f-e166912edceb"
      },
      "source": [
        "\n",
        "train_label.shape"
      ],
      "execution_count": null,
      "outputs": [
        {
          "output_type": "execute_result",
          "data": {
            "text/plain": [
              "(5000, 1)"
            ]
          },
          "metadata": {},
          "execution_count": 35
        }
      ]
    },
    {
      "cell_type": "code",
      "source": [
        "train_label = train_label.iloc[:5000,:]"
      ],
      "metadata": {
        "id": "6OqNUudidGL3"
      },
      "execution_count": null,
      "outputs": []
    },
    {
      "cell_type": "code",
      "source": [
        "train_label.head()"
      ],
      "metadata": {
        "colab": {
          "base_uri": "https://localhost:8080/",
          "height": 206
        },
        "id": "OHQUf1h7fnmo",
        "outputId": "9a8f84a6-1b01-43ab-a6b3-637cc85646a0"
      },
      "execution_count": null,
      "outputs": [
        {
          "output_type": "execute_result",
          "data": {
            "text/plain": [
              "                                                   0\n",
              "0  <t> marseille prosecutor says `` so far no vid...\n",
              "1  <t> membership gives the icc jurisdiction over...\n",
              "2  <t> amnesty 's annual death penalty report cat...\n",
              "3  <t> amnesty international releases its annual ...\n",
              "4  <t> museum : anne frank died earlier than prev..."
            ],
            "text/html": [
              "\n",
              "  <div id=\"df-85ccafb3-a31f-48ca-9336-b15e394a53d8\">\n",
              "    <div class=\"colab-df-container\">\n",
              "      <div>\n",
              "<style scoped>\n",
              "    .dataframe tbody tr th:only-of-type {\n",
              "        vertical-align: middle;\n",
              "    }\n",
              "\n",
              "    .dataframe tbody tr th {\n",
              "        vertical-align: top;\n",
              "    }\n",
              "\n",
              "    .dataframe thead th {\n",
              "        text-align: right;\n",
              "    }\n",
              "</style>\n",
              "<table border=\"1\" class=\"dataframe\">\n",
              "  <thead>\n",
              "    <tr style=\"text-align: right;\">\n",
              "      <th></th>\n",
              "      <th>0</th>\n",
              "    </tr>\n",
              "  </thead>\n",
              "  <tbody>\n",
              "    <tr>\n",
              "      <th>0</th>\n",
              "      <td>&lt;t&gt; marseille prosecutor says `` so far no vid...</td>\n",
              "    </tr>\n",
              "    <tr>\n",
              "      <th>1</th>\n",
              "      <td>&lt;t&gt; membership gives the icc jurisdiction over...</td>\n",
              "    </tr>\n",
              "    <tr>\n",
              "      <th>2</th>\n",
              "      <td>&lt;t&gt; amnesty 's annual death penalty report cat...</td>\n",
              "    </tr>\n",
              "    <tr>\n",
              "      <th>3</th>\n",
              "      <td>&lt;t&gt; amnesty international releases its annual ...</td>\n",
              "    </tr>\n",
              "    <tr>\n",
              "      <th>4</th>\n",
              "      <td>&lt;t&gt; museum : anne frank died earlier than prev...</td>\n",
              "    </tr>\n",
              "  </tbody>\n",
              "</table>\n",
              "</div>\n",
              "      <button class=\"colab-df-convert\" onclick=\"convertToInteractive('df-85ccafb3-a31f-48ca-9336-b15e394a53d8')\"\n",
              "              title=\"Convert this dataframe to an interactive table.\"\n",
              "              style=\"display:none;\">\n",
              "        \n",
              "  <svg xmlns=\"http://www.w3.org/2000/svg\" height=\"24px\"viewBox=\"0 0 24 24\"\n",
              "       width=\"24px\">\n",
              "    <path d=\"M0 0h24v24H0V0z\" fill=\"none\"/>\n",
              "    <path d=\"M18.56 5.44l.94 2.06.94-2.06 2.06-.94-2.06-.94-.94-2.06-.94 2.06-2.06.94zm-11 1L8.5 8.5l.94-2.06 2.06-.94-2.06-.94L8.5 2.5l-.94 2.06-2.06.94zm10 10l.94 2.06.94-2.06 2.06-.94-2.06-.94-.94-2.06-.94 2.06-2.06.94z\"/><path d=\"M17.41 7.96l-1.37-1.37c-.4-.4-.92-.59-1.43-.59-.52 0-1.04.2-1.43.59L10.3 9.45l-7.72 7.72c-.78.78-.78 2.05 0 2.83L4 21.41c.39.39.9.59 1.41.59.51 0 1.02-.2 1.41-.59l7.78-7.78 2.81-2.81c.8-.78.8-2.07 0-2.86zM5.41 20L4 18.59l7.72-7.72 1.47 1.35L5.41 20z\"/>\n",
              "  </svg>\n",
              "      </button>\n",
              "      \n",
              "  <style>\n",
              "    .colab-df-container {\n",
              "      display:flex;\n",
              "      flex-wrap:wrap;\n",
              "      gap: 12px;\n",
              "    }\n",
              "\n",
              "    .colab-df-convert {\n",
              "      background-color: #E8F0FE;\n",
              "      border: none;\n",
              "      border-radius: 50%;\n",
              "      cursor: pointer;\n",
              "      display: none;\n",
              "      fill: #1967D2;\n",
              "      height: 32px;\n",
              "      padding: 0 0 0 0;\n",
              "      width: 32px;\n",
              "    }\n",
              "\n",
              "    .colab-df-convert:hover {\n",
              "      background-color: #E2EBFA;\n",
              "      box-shadow: 0px 1px 2px rgba(60, 64, 67, 0.3), 0px 1px 3px 1px rgba(60, 64, 67, 0.15);\n",
              "      fill: #174EA6;\n",
              "    }\n",
              "\n",
              "    [theme=dark] .colab-df-convert {\n",
              "      background-color: #3B4455;\n",
              "      fill: #D2E3FC;\n",
              "    }\n",
              "\n",
              "    [theme=dark] .colab-df-convert:hover {\n",
              "      background-color: #434B5C;\n",
              "      box-shadow: 0px 1px 3px 1px rgba(0, 0, 0, 0.15);\n",
              "      filter: drop-shadow(0px 1px 2px rgba(0, 0, 0, 0.3));\n",
              "      fill: #FFFFFF;\n",
              "    }\n",
              "  </style>\n",
              "\n",
              "      <script>\n",
              "        const buttonEl =\n",
              "          document.querySelector('#df-85ccafb3-a31f-48ca-9336-b15e394a53d8 button.colab-df-convert');\n",
              "        buttonEl.style.display =\n",
              "          google.colab.kernel.accessAllowed ? 'block' : 'none';\n",
              "\n",
              "        async function convertToInteractive(key) {\n",
              "          const element = document.querySelector('#df-85ccafb3-a31f-48ca-9336-b15e394a53d8');\n",
              "          const dataTable =\n",
              "            await google.colab.kernel.invokeFunction('convertToInteractive',\n",
              "                                                     [key], {});\n",
              "          if (!dataTable) return;\n",
              "\n",
              "          const docLinkHtml = 'Like what you see? Visit the ' +\n",
              "            '<a target=\"_blank\" href=https://colab.research.google.com/notebooks/data_table.ipynb>data table notebook</a>'\n",
              "            + ' to learn more about interactive tables.';\n",
              "          element.innerHTML = '';\n",
              "          dataTable['output_type'] = 'display_data';\n",
              "          await google.colab.output.renderOutput(dataTable, element);\n",
              "          const docLink = document.createElement('div');\n",
              "          docLink.innerHTML = docLinkHtml;\n",
              "          element.appendChild(docLink);\n",
              "        }\n",
              "      </script>\n",
              "    </div>\n",
              "  </div>\n",
              "  "
            ]
          },
          "metadata": {},
          "execution_count": 37
        }
      ]
    },
    {
      "cell_type": "code",
      "source": [
        "dtf = pd.concat([train_data, train_label], axis = 1, ignore_index=True)\n",
        "dtf = dtf.rename({0:'text', 1: 'label'},axis = 1)\n",
        "dtf.head()"
      ],
      "metadata": {
        "colab": {
          "base_uri": "https://localhost:8080/",
          "height": 206
        },
        "id": "labJpW2xfsnE",
        "outputId": "f8e2cfae-3828-4f53-dcfd-5ec275cb06a0"
      },
      "execution_count": null,
      "outputs": [
        {
          "output_type": "execute_result",
          "data": {
            "text/plain": [
              "                                                text  \\\n",
              "0  editor 's note : in our behind the scenes seri...   \n",
              "1  london , england -lrb- reuters -rrb- -- harry ...   \n",
              "2  minneapolis , minnesota -lrb- cnn -rrb- -- dri...   \n",
              "3  baghdad , iraq -lrb- cnn -rrb- -- dressed in a...   \n",
              "4  washington -lrb- cnn -rrb- -- doctors removed ...   \n",
              "\n",
              "                                               label  \n",
              "0  <t> marseille prosecutor says `` so far no vid...  \n",
              "1  <t> membership gives the icc jurisdiction over...  \n",
              "2  <t> amnesty 's annual death penalty report cat...  \n",
              "3  <t> amnesty international releases its annual ...  \n",
              "4  <t> museum : anne frank died earlier than prev...  "
            ],
            "text/html": [
              "\n",
              "  <div id=\"df-f37c8a92-1ae1-4643-ab8f-25f8578811bc\">\n",
              "    <div class=\"colab-df-container\">\n",
              "      <div>\n",
              "<style scoped>\n",
              "    .dataframe tbody tr th:only-of-type {\n",
              "        vertical-align: middle;\n",
              "    }\n",
              "\n",
              "    .dataframe tbody tr th {\n",
              "        vertical-align: top;\n",
              "    }\n",
              "\n",
              "    .dataframe thead th {\n",
              "        text-align: right;\n",
              "    }\n",
              "</style>\n",
              "<table border=\"1\" class=\"dataframe\">\n",
              "  <thead>\n",
              "    <tr style=\"text-align: right;\">\n",
              "      <th></th>\n",
              "      <th>text</th>\n",
              "      <th>label</th>\n",
              "    </tr>\n",
              "  </thead>\n",
              "  <tbody>\n",
              "    <tr>\n",
              "      <th>0</th>\n",
              "      <td>editor 's note : in our behind the scenes seri...</td>\n",
              "      <td>&lt;t&gt; marseille prosecutor says `` so far no vid...</td>\n",
              "    </tr>\n",
              "    <tr>\n",
              "      <th>1</th>\n",
              "      <td>london , england -lrb- reuters -rrb- -- harry ...</td>\n",
              "      <td>&lt;t&gt; membership gives the icc jurisdiction over...</td>\n",
              "    </tr>\n",
              "    <tr>\n",
              "      <th>2</th>\n",
              "      <td>minneapolis , minnesota -lrb- cnn -rrb- -- dri...</td>\n",
              "      <td>&lt;t&gt; amnesty 's annual death penalty report cat...</td>\n",
              "    </tr>\n",
              "    <tr>\n",
              "      <th>3</th>\n",
              "      <td>baghdad , iraq -lrb- cnn -rrb- -- dressed in a...</td>\n",
              "      <td>&lt;t&gt; amnesty international releases its annual ...</td>\n",
              "    </tr>\n",
              "    <tr>\n",
              "      <th>4</th>\n",
              "      <td>washington -lrb- cnn -rrb- -- doctors removed ...</td>\n",
              "      <td>&lt;t&gt; museum : anne frank died earlier than prev...</td>\n",
              "    </tr>\n",
              "  </tbody>\n",
              "</table>\n",
              "</div>\n",
              "      <button class=\"colab-df-convert\" onclick=\"convertToInteractive('df-f37c8a92-1ae1-4643-ab8f-25f8578811bc')\"\n",
              "              title=\"Convert this dataframe to an interactive table.\"\n",
              "              style=\"display:none;\">\n",
              "        \n",
              "  <svg xmlns=\"http://www.w3.org/2000/svg\" height=\"24px\"viewBox=\"0 0 24 24\"\n",
              "       width=\"24px\">\n",
              "    <path d=\"M0 0h24v24H0V0z\" fill=\"none\"/>\n",
              "    <path d=\"M18.56 5.44l.94 2.06.94-2.06 2.06-.94-2.06-.94-.94-2.06-.94 2.06-2.06.94zm-11 1L8.5 8.5l.94-2.06 2.06-.94-2.06-.94L8.5 2.5l-.94 2.06-2.06.94zm10 10l.94 2.06.94-2.06 2.06-.94-2.06-.94-.94-2.06-.94 2.06-2.06.94z\"/><path d=\"M17.41 7.96l-1.37-1.37c-.4-.4-.92-.59-1.43-.59-.52 0-1.04.2-1.43.59L10.3 9.45l-7.72 7.72c-.78.78-.78 2.05 0 2.83L4 21.41c.39.39.9.59 1.41.59.51 0 1.02-.2 1.41-.59l7.78-7.78 2.81-2.81c.8-.78.8-2.07 0-2.86zM5.41 20L4 18.59l7.72-7.72 1.47 1.35L5.41 20z\"/>\n",
              "  </svg>\n",
              "      </button>\n",
              "      \n",
              "  <style>\n",
              "    .colab-df-container {\n",
              "      display:flex;\n",
              "      flex-wrap:wrap;\n",
              "      gap: 12px;\n",
              "    }\n",
              "\n",
              "    .colab-df-convert {\n",
              "      background-color: #E8F0FE;\n",
              "      border: none;\n",
              "      border-radius: 50%;\n",
              "      cursor: pointer;\n",
              "      display: none;\n",
              "      fill: #1967D2;\n",
              "      height: 32px;\n",
              "      padding: 0 0 0 0;\n",
              "      width: 32px;\n",
              "    }\n",
              "\n",
              "    .colab-df-convert:hover {\n",
              "      background-color: #E2EBFA;\n",
              "      box-shadow: 0px 1px 2px rgba(60, 64, 67, 0.3), 0px 1px 3px 1px rgba(60, 64, 67, 0.15);\n",
              "      fill: #174EA6;\n",
              "    }\n",
              "\n",
              "    [theme=dark] .colab-df-convert {\n",
              "      background-color: #3B4455;\n",
              "      fill: #D2E3FC;\n",
              "    }\n",
              "\n",
              "    [theme=dark] .colab-df-convert:hover {\n",
              "      background-color: #434B5C;\n",
              "      box-shadow: 0px 1px 3px 1px rgba(0, 0, 0, 0.15);\n",
              "      filter: drop-shadow(0px 1px 2px rgba(0, 0, 0, 0.3));\n",
              "      fill: #FFFFFF;\n",
              "    }\n",
              "  </style>\n",
              "\n",
              "      <script>\n",
              "        const buttonEl =\n",
              "          document.querySelector('#df-f37c8a92-1ae1-4643-ab8f-25f8578811bc button.colab-df-convert');\n",
              "        buttonEl.style.display =\n",
              "          google.colab.kernel.accessAllowed ? 'block' : 'none';\n",
              "\n",
              "        async function convertToInteractive(key) {\n",
              "          const element = document.querySelector('#df-f37c8a92-1ae1-4643-ab8f-25f8578811bc');\n",
              "          const dataTable =\n",
              "            await google.colab.kernel.invokeFunction('convertToInteractive',\n",
              "                                                     [key], {});\n",
              "          if (!dataTable) return;\n",
              "\n",
              "          const docLinkHtml = 'Like what you see? Visit the ' +\n",
              "            '<a target=\"_blank\" href=https://colab.research.google.com/notebooks/data_table.ipynb>data table notebook</a>'\n",
              "            + ' to learn more about interactive tables.';\n",
              "          element.innerHTML = '';\n",
              "          dataTable['output_type'] = 'display_data';\n",
              "          await google.colab.output.renderOutput(dataTable, element);\n",
              "          const docLink = document.createElement('div');\n",
              "          docLink.innerHTML = docLinkHtml;\n",
              "          element.appendChild(docLink);\n",
              "        }\n",
              "      </script>\n",
              "    </div>\n",
              "  </div>\n",
              "  "
            ]
          },
          "metadata": {},
          "execution_count": 38
        }
      ]
    },
    {
      "cell_type": "code",
      "execution_count": null,
      "metadata": {
        "colab": {
          "base_uri": "https://localhost:8080/"
        },
        "id": "tXU0NGiXaXLW",
        "outputId": "6df24e86-4d8d-41ea-b10f-6455b37ef11a"
      },
      "outputs": [
        {
          "output_type": "stream",
          "name": "stdout",
          "text": [
            "<class 'pandas.core.frame.DataFrame'>\n",
            "RangeIndex: 5000 entries, 0 to 4999\n",
            "Data columns (total 2 columns):\n",
            " #   Column  Non-Null Count  Dtype \n",
            "---  ------  --------------  ----- \n",
            " 0   text    5000 non-null   object\n",
            " 1   label   5000 non-null   object\n",
            "dtypes: object(2)\n",
            "memory usage: 78.2+ KB\n"
          ]
        }
      ],
      "source": [
        "dtf.info()"
      ]
    },
    {
      "cell_type": "code",
      "execution_count": null,
      "metadata": {
        "colab": {
          "base_uri": "https://localhost:8080/"
        },
        "id": "LU6EezZzaXLY",
        "outputId": "f1529623-98dc-49e3-8078-4a1ea5f760f9"
      },
      "outputs": [
        {
          "output_type": "stream",
          "name": "stdout",
          "text": [
            "--- Full text ---\n",
            "washington -lrb- cnn -rrb- -- doctors removed five small polyps from president bush 's colon on saturday , and `` none appeared worrisome , '' a white house spokesman said . the polyps were removed and sent to the national naval medical center in bethesda , maryland , for routine microscopic examination , spokesman scott stanzel said . results are expected in two to three days . all were small , less than a centimeter -lsb- half an inch -rsb- in diameter , he said . bush is in good humor , stanzel said , and will resume his activities at camp david . during the procedure vice president dick cheney assumed presidential power . bush reclaimed presidential power at 9:21 a.m. after about two hours . doctors used `` monitored anesthesia care , '' stanzel said , so the president was asleep , but not as deeply unconscious as with a true general anesthetic . he spoke to first lady laura bush -- who is in midland , texas , celebrating her mother 's birthday -- before and after the procedure , stanzel said . afterward , the president played with his scottish terriers , barney and miss beazley , stanzel said . he planned to have lunch at camp david and have briefings with national security adviser stephen hadley and white house chief of staff josh bolten , and planned to take a bicycle ride saturday afternoon . cheney , meanwhile , spent the morning at his home on maryland 's eastern shore , reading and playing with his dogs , stanzel said . nothing occurred that required him to take official action as president before bush reclaimed presidential power . the procedure was supervised by dr. richard tubb , bush 's physician , and conducted by a multidisciplinary team from the national naval medical center in bethesda , maryland , the white house said . bush 's last colonoscopy was in june 2002 , and no abnormalities were found , white house spokesman tony snow said . the president 's doctor had recommended a repeat procedure in about five years . a colonoscopy is the most sensitive test for colon cancer , rectal cancer and polyps , small clumps of cells that can become cancerous , according to the mayo clinic . small polyps may be removed during the procedure . snow said on friday that bush had polyps removed during colonoscopies before becoming president . snow himself is undergoing chemotherapy for cancer that began in his colon and spread to his liver . watch snow talk about bush 's procedure and his own colon cancer '' `` the president wants to encourage everybody to use surveillance , '' snow said . the american cancer society recommends that people without high risk factors or symptoms begin getting screened for signs of colorectal cancer at age 50 . e-mail to a friend .\n",
            "\n",
            " \n",
            "--- Summary ---\n",
            "<t> museum : anne frank died earlier than previously believed . </t> <t> researchers re-examined archives and testimonies of survivors . </t> <t> anne and older sister margot frank are believed to have died in february 1945 . </t>\n",
            "\n"
          ]
        }
      ],
      "source": [
        "# check\n",
        "i = 4\n",
        "print(\"--- Full text ---\")\n",
        "print(dtf[\"text\"][i])\n",
        "print(\" \")\n",
        "print(\"--- Summary ---\")\n",
        "print(dtf[\"label\"][i])"
      ]
    },
    {
      "cell_type": "markdown",
      "metadata": {
        "id": "qQ2XFgmNaXLc"
      },
      "source": [
        "# ***Text Preprocessing***"
      ]
    },
    {
      "cell_type": "markdown",
      "metadata": {
        "id": "gl-PsvePaXLd"
      },
      "source": [
        "- **Text cleaning**\n",
        "- **Word frequency**\n",
        "- **Length analysis**"
      ]
    },
    {
      "cell_type": "markdown",
      "metadata": {
        "id": "nmebUwgtaXLe"
      },
      "source": [
        "###### **Text cleaning Funtion wrapper** \n",
        "- Here, I'm running wrapper text preprocessing function that I've implemented in externally `.py` file. I'll attached this in zip file "
      ]
    },
    {
      "cell_type": "markdown",
      "source": [
        "# **Appy Preprocessing on Raw Data**"
      ],
      "metadata": {
        "id": "BOUZ1oEsT7tn"
      }
    },
    {
      "cell_type": "code",
      "source": [
        "def create_stopwords(lst_langs=[\"english\"], lst_add_words=[], lst_keep_words=[]):\n",
        "    lst_stopwords = set()\n",
        "    for lang in lst_langs:\n",
        "        lst_stopwords = lst_stopwords.union( set(nltk.corpus.stopwords.words(lang)) )\n",
        "    lst_stopwords = lst_stopwords.union(lst_add_words)\n",
        "    lst_stopwords = list(set(lst_stopwords) - set(lst_keep_words))\n",
        "    return sorted(list(set(lst_stopwords)))"
      ],
      "metadata": {
        "id": "sZgx4yJShsmX"
      },
      "execution_count": null,
      "outputs": []
    },
    {
      "cell_type": "code",
      "execution_count": null,
      "metadata": {
        "id": "RlLuvOaeaXLf"
      },
      "outputs": [],
      "source": [
        "lst_stopwords = create_stopwords()\n",
        "lst_stopwords = lst_stopwords + [\"lrb\",\"rrb\",\"ann\",\"new\",\"wa\",\"ha\"]"
      ]
    },
    {
      "cell_type": "code",
      "source": [
        "import re"
      ],
      "metadata": {
        "id": "WvmismRviK9d"
      },
      "execution_count": null,
      "outputs": []
    },
    {
      "cell_type": "code",
      "execution_count": null,
      "metadata": {
        "colab": {
          "base_uri": "https://localhost:8080/",
          "height": 458
        },
        "id": "9VoSbtGAaXLg",
        "outputId": "8cde97ac-b8b3-437a-97b2-24937e774489"
      },
      "outputs": [
        {
          "output_type": "stream",
          "name": "stdout",
          "text": [
            "--- found NAs ---\n",
            "    text text_clean\n",
            "598   \\n           \n",
            "611   \\n           \n",
            "676   \\n           \n",
            "687   \\n           \n",
            "986   \\n           \n"
          ]
        },
        {
          "output_type": "execute_result",
          "data": {
            "text/plain": [
              "                                                text  \\\n",
              "0  editor 's note : in our behind the scenes seri...   \n",
              "1  london , england -lrb- reuters -rrb- -- harry ...   \n",
              "2  minneapolis , minnesota -lrb- cnn -rrb- -- dri...   \n",
              "3  baghdad , iraq -lrb- cnn -rrb- -- dressed in a...   \n",
              "4  washington -lrb- cnn -rrb- -- doctors removed ...   \n",
              "\n",
              "                                               label  \\\n",
              "0  <t> marseille prosecutor says `` so far no vid...   \n",
              "1  <t> membership gives the icc jurisdiction over...   \n",
              "2  <t> amnesty 's annual death penalty report cat...   \n",
              "3  <t> amnesty international releases its annual ...   \n",
              "4  <t> museum : anne frank died earlier than prev...   \n",
              "\n",
              "                                          text_clean  \\\n",
              "0  editor note behind scene series cnn correspond...   \n",
              "1  london england reuters harry potter star danie...   \n",
              "2  minneapolis minnesota cnn driver minneapolis b...   \n",
              "3  baghdad iraq cnn dressed superman shirt 5yearo...   \n",
              "4  washington cnn doctor removed five small polyp...   \n",
              "\n",
              "                                         label_clean  \n",
              "0  marseille prosecutor say far video used crash ...  \n",
              "1  membership give icc jurisdiction alleged crime...  \n",
              "2  amnesty annual death penalty report catalog en...  \n",
              "3  amnesty international release annual review de...  \n",
              "4  museum anne frank died earlier previously beli...  "
            ],
            "text/html": [
              "\n",
              "  <div id=\"df-482f462c-392e-4779-9854-e96fb88f0226\">\n",
              "    <div class=\"colab-df-container\">\n",
              "      <div>\n",
              "<style scoped>\n",
              "    .dataframe tbody tr th:only-of-type {\n",
              "        vertical-align: middle;\n",
              "    }\n",
              "\n",
              "    .dataframe tbody tr th {\n",
              "        vertical-align: top;\n",
              "    }\n",
              "\n",
              "    .dataframe thead th {\n",
              "        text-align: right;\n",
              "    }\n",
              "</style>\n",
              "<table border=\"1\" class=\"dataframe\">\n",
              "  <thead>\n",
              "    <tr style=\"text-align: right;\">\n",
              "      <th></th>\n",
              "      <th>text</th>\n",
              "      <th>label</th>\n",
              "      <th>text_clean</th>\n",
              "      <th>label_clean</th>\n",
              "    </tr>\n",
              "  </thead>\n",
              "  <tbody>\n",
              "    <tr>\n",
              "      <th>0</th>\n",
              "      <td>editor 's note : in our behind the scenes seri...</td>\n",
              "      <td>&lt;t&gt; marseille prosecutor says `` so far no vid...</td>\n",
              "      <td>editor note behind scene series cnn correspond...</td>\n",
              "      <td>marseille prosecutor say far video used crash ...</td>\n",
              "    </tr>\n",
              "    <tr>\n",
              "      <th>1</th>\n",
              "      <td>london , england -lrb- reuters -rrb- -- harry ...</td>\n",
              "      <td>&lt;t&gt; membership gives the icc jurisdiction over...</td>\n",
              "      <td>london england reuters harry potter star danie...</td>\n",
              "      <td>membership give icc jurisdiction alleged crime...</td>\n",
              "    </tr>\n",
              "    <tr>\n",
              "      <th>2</th>\n",
              "      <td>minneapolis , minnesota -lrb- cnn -rrb- -- dri...</td>\n",
              "      <td>&lt;t&gt; amnesty 's annual death penalty report cat...</td>\n",
              "      <td>minneapolis minnesota cnn driver minneapolis b...</td>\n",
              "      <td>amnesty annual death penalty report catalog en...</td>\n",
              "    </tr>\n",
              "    <tr>\n",
              "      <th>3</th>\n",
              "      <td>baghdad , iraq -lrb- cnn -rrb- -- dressed in a...</td>\n",
              "      <td>&lt;t&gt; amnesty international releases its annual ...</td>\n",
              "      <td>baghdad iraq cnn dressed superman shirt 5yearo...</td>\n",
              "      <td>amnesty international release annual review de...</td>\n",
              "    </tr>\n",
              "    <tr>\n",
              "      <th>4</th>\n",
              "      <td>washington -lrb- cnn -rrb- -- doctors removed ...</td>\n",
              "      <td>&lt;t&gt; museum : anne frank died earlier than prev...</td>\n",
              "      <td>washington cnn doctor removed five small polyp...</td>\n",
              "      <td>museum anne frank died earlier previously beli...</td>\n",
              "    </tr>\n",
              "  </tbody>\n",
              "</table>\n",
              "</div>\n",
              "      <button class=\"colab-df-convert\" onclick=\"convertToInteractive('df-482f462c-392e-4779-9854-e96fb88f0226')\"\n",
              "              title=\"Convert this dataframe to an interactive table.\"\n",
              "              style=\"display:none;\">\n",
              "        \n",
              "  <svg xmlns=\"http://www.w3.org/2000/svg\" height=\"24px\"viewBox=\"0 0 24 24\"\n",
              "       width=\"24px\">\n",
              "    <path d=\"M0 0h24v24H0V0z\" fill=\"none\"/>\n",
              "    <path d=\"M18.56 5.44l.94 2.06.94-2.06 2.06-.94-2.06-.94-.94-2.06-.94 2.06-2.06.94zm-11 1L8.5 8.5l.94-2.06 2.06-.94-2.06-.94L8.5 2.5l-.94 2.06-2.06.94zm10 10l.94 2.06.94-2.06 2.06-.94-2.06-.94-.94-2.06-.94 2.06-2.06.94z\"/><path d=\"M17.41 7.96l-1.37-1.37c-.4-.4-.92-.59-1.43-.59-.52 0-1.04.2-1.43.59L10.3 9.45l-7.72 7.72c-.78.78-.78 2.05 0 2.83L4 21.41c.39.39.9.59 1.41.59.51 0 1.02-.2 1.41-.59l7.78-7.78 2.81-2.81c.8-.78.8-2.07 0-2.86zM5.41 20L4 18.59l7.72-7.72 1.47 1.35L5.41 20z\"/>\n",
              "  </svg>\n",
              "      </button>\n",
              "      \n",
              "  <style>\n",
              "    .colab-df-container {\n",
              "      display:flex;\n",
              "      flex-wrap:wrap;\n",
              "      gap: 12px;\n",
              "    }\n",
              "\n",
              "    .colab-df-convert {\n",
              "      background-color: #E8F0FE;\n",
              "      border: none;\n",
              "      border-radius: 50%;\n",
              "      cursor: pointer;\n",
              "      display: none;\n",
              "      fill: #1967D2;\n",
              "      height: 32px;\n",
              "      padding: 0 0 0 0;\n",
              "      width: 32px;\n",
              "    }\n",
              "\n",
              "    .colab-df-convert:hover {\n",
              "      background-color: #E2EBFA;\n",
              "      box-shadow: 0px 1px 2px rgba(60, 64, 67, 0.3), 0px 1px 3px 1px rgba(60, 64, 67, 0.15);\n",
              "      fill: #174EA6;\n",
              "    }\n",
              "\n",
              "    [theme=dark] .colab-df-convert {\n",
              "      background-color: #3B4455;\n",
              "      fill: #D2E3FC;\n",
              "    }\n",
              "\n",
              "    [theme=dark] .colab-df-convert:hover {\n",
              "      background-color: #434B5C;\n",
              "      box-shadow: 0px 1px 3px 1px rgba(0, 0, 0, 0.15);\n",
              "      filter: drop-shadow(0px 1px 2px rgba(0, 0, 0, 0.3));\n",
              "      fill: #FFFFFF;\n",
              "    }\n",
              "  </style>\n",
              "\n",
              "      <script>\n",
              "        const buttonEl =\n",
              "          document.querySelector('#df-482f462c-392e-4779-9854-e96fb88f0226 button.colab-df-convert');\n",
              "        buttonEl.style.display =\n",
              "          google.colab.kernel.accessAllowed ? 'block' : 'none';\n",
              "\n",
              "        async function convertToInteractive(key) {\n",
              "          const element = document.querySelector('#df-482f462c-392e-4779-9854-e96fb88f0226');\n",
              "          const dataTable =\n",
              "            await google.colab.kernel.invokeFunction('convertToInteractive',\n",
              "                                                     [key], {});\n",
              "          if (!dataTable) return;\n",
              "\n",
              "          const docLinkHtml = 'Like what you see? Visit the ' +\n",
              "            '<a target=\"_blank\" href=https://colab.research.google.com/notebooks/data_table.ipynb>data table notebook</a>'\n",
              "            + ' to learn more about interactive tables.';\n",
              "          element.innerHTML = '';\n",
              "          dataTable['output_type'] = 'display_data';\n",
              "          await google.colab.output.renderOutput(dataTable, element);\n",
              "          const docLink = document.createElement('div');\n",
              "          docLink.innerHTML = docLinkHtml;\n",
              "          element.appendChild(docLink);\n",
              "        }\n",
              "      </script>\n",
              "    </div>\n",
              "  </div>\n",
              "  "
            ]
          },
          "metadata": {},
          "execution_count": 45
        }
      ],
      "source": [
        "dtf = add_preprocessed_text(dtf, column=\"text\", \n",
        "                            punkt=True, lower=True, slang=True, lst_stopwords=lst_stopwords, lemm=True)\n",
        "dtf = add_preprocessed_text(dtf, column=\"label\", \n",
        "                            punkt=True, lower=True, slang=True, lst_stopwords=lst_stopwords, lemm=True)\n",
        "dtf.head()"
      ]
    },
    {
      "cell_type": "code",
      "execution_count": null,
      "metadata": {
        "colab": {
          "base_uri": "https://localhost:8080/"
        },
        "id": "dfEio8TcaXLh",
        "outputId": "52019478-bd29-4af8-a064-23ba242cff3f"
      },
      "outputs": [
        {
          "output_type": "stream",
          "name": "stdout",
          "text": [
            "--- Full text ---\n",
            "washington cnn doctor removed five small polyp president bush colon saturday none appeared worrisome white house spokesman said polyp removed sent national naval medical center bethesda maryland routine microscopic examination spokesman scott stanzel said result expected two three day small le centimeter lsb half inch rsb diameter said bush good humor stanzel said resume activity camp david procedure vice president dick cheney assumed presidential power bush reclaimed presidential power 921 two hour doctor used monitored anesthesia care stanzel said president asleep deeply unconscious true general anesthetic spoke first lady laura bush midland texas celebrating mother birthday procedure stanzel said afterward president played scottish terrier barney miss beazley stanzel said planned lunch camp david briefing national security adviser stephen hadley white house chief staff josh bolten planned take bicycle ride saturday afternoon cheney meanwhile spent morning home maryland eastern shore reading playing dog stanzel said nothing occurred required take official action president bush reclaimed presidential power procedure supervised dr richard tubb bush physician conducted multidisciplinary team national naval medical center bethesda maryland white house said bush last colonoscopy june 2002 abnormality found white house spokesman tony snow said president doctor recommended repeat procedure five year colonoscopy sensitive test colon cancer rectal cancer polyp small clump cell become cancerous according mayo clinic small polyp may removed procedure snow said friday bush polyp removed colonoscopy becoming president snow undergoing chemotherapy cancer began colon spread liver watch snow talk bush procedure colon cancer president want encourage everybody use surveillance snow said american cancer society recommends people without high risk factor symptom begin getting screened sign colorectal cancer age 50 email friend\n",
            " \n",
            "--- Summary ---\n",
            "museum anne frank died earlier previously believed researcher reexamined archive testimony survivor anne older sister margot frank believed died february 1945\n"
          ]
        }
      ],
      "source": [
        "# check\n",
        "print(\"--- Full text ---\")\n",
        "print(dtf[\"text_clean\"][i])\n",
        "print(\" \")\n",
        "print(\"--- Summary ---\")\n",
        "print(dtf[\"label_clean\"][i])"
      ]
    },
    {
      "cell_type": "markdown",
      "metadata": {
        "id": "rc0fqh3kaXLj"
      },
      "source": [
        "# **Text Visualization**\n",
        "- Word frequency Visualization "
      ]
    },
    {
      "cell_type": "code",
      "source": [
        "import nltk\n",
        "nltk.download('punkt')"
      ],
      "metadata": {
        "colab": {
          "base_uri": "https://localhost:8080/"
        },
        "id": "3gHGXP80bi7Y",
        "outputId": "22a4a070-56b5-45bf-b568-fbc053fb2ffe"
      },
      "execution_count": null,
      "outputs": [
        {
          "output_type": "stream",
          "name": "stdout",
          "text": [
            "[nltk_data] Downloading package punkt to /root/nltk_data...\n",
            "[nltk_data]   Package punkt is already up-to-date!\n"
          ]
        },
        {
          "output_type": "execute_result",
          "data": {
            "text/plain": [
              "True"
            ]
          },
          "metadata": {},
          "execution_count": 47
        }
      ]
    },
    {
      "cell_type": "code",
      "execution_count": null,
      "metadata": {
        "colab": {
          "base_uri": "https://localhost:8080/",
          "height": 444
        },
        "id": "qzF_iY1EaXLm",
        "outputId": "796cea30-5ffd-48ef-8bdf-2ca8a30fec44"
      },
      "outputs": [
        {
          "output_type": "display_data",
          "data": {
            "text/plain": [
              "<Figure size 720x504 with 1 Axes>"
            ],
            "image/png": "[encoded data removed]"
          },
          "metadata": {
            "needs_background": "light"
          }
        }
      ],
      "source": [
        "# Find most common words in text\n",
        "dtf_freq = word_freq(corpus=dtf[\"text_clean\"], ngrams=[1], top=30, figsize=(10,7))"
      ]
    },
    {
      "cell_type": "code",
      "execution_count": null,
      "metadata": {
        "colab": {
          "base_uri": "https://localhost:8080/"
        },
        "id": "vPem8mmraXLo",
        "outputId": "2499b860-2a63-4757-bab4-a8add83fa3a0"
      },
      "outputs": [
        {
          "output_type": "execute_result",
          "data": {
            "text/plain": [
              "19832"
            ]
          },
          "metadata": {},
          "execution_count": 49
        }
      ],
      "source": [
        "thres = 5\n",
        "X_top_words = len(dtf_freq[dtf_freq[\"freq\"]>thres])\n",
        "X_top_words"
      ]
    },
    {
      "cell_type": "code",
      "execution_count": null,
      "metadata": {
        "colab": {
          "base_uri": "https://localhost:8080/",
          "height": 444
        },
        "id": "YZbda6oSaXLq",
        "outputId": "0bce41f4-c3b0-4eea-8cb6-44e834c0fd90"
      },
      "outputs": [
        {
          "output_type": "display_data",
          "data": {
            "text/plain": [
              "<Figure size 720x504 with 1 Axes>"
            ],
            "image/png": "[encoded data removed]"
          },
          "metadata": {
            "needs_background": "light"
          }
        }
      ],
      "source": [
        "# Find most common words in summaries\n",
        "dtf_freq = word_freq(corpus=dtf[\"label_clean\"], ngrams=[1], top=30, figsize=(10,7))"
      ]
    },
    {
      "cell_type": "code",
      "execution_count": null,
      "metadata": {
        "colab": {
          "base_uri": "https://localhost:8080/"
        },
        "id": "QGsdkL3AaXLr",
        "outputId": "dd0c7206-048d-4500-910b-54f004573c96"
      },
      "outputs": [
        {
          "output_type": "execute_result",
          "data": {
            "text/plain": [
              "4114"
            ]
          },
          "metadata": {},
          "execution_count": 51
        }
      ],
      "source": [
        "thres = 5\n",
        "y_top_words = len(dtf_freq[dtf_freq[\"freq\"]>thres])\n",
        "y_top_words"
      ]
    },
    {
      "cell_type": "markdown",
      "metadata": {
        "id": "214gxDxraXLt"
      },
      "source": [
        "###### Length analysis"
      ]
    },
    {
      "cell_type": "code",
      "execution_count": null,
      "metadata": {
        "colab": {
          "base_uri": "https://localhost:8080/"
        },
        "id": "MREB5RqaaXLt",
        "outputId": "f31672e0-bc34-4c32-c695-ac1db482d813"
      },
      "outputs": [
        {
          "output_type": "stream",
          "name": "stdout",
          "text": [
            "                           min         mean          max\n",
            "char_count           78.000000  2131.044422  6956.000000\n",
            "word_count           13.000000   350.086432  1030.000000\n",
            "sentence_count        1.000000     1.000000     1.000000\n",
            "avg_word_length       4.793103     6.106794     7.519685\n",
            "avg_sentence_lenght  13.000000   350.086432  1030.000000\n"
          ]
        }
      ],
      "source": [
        "# Texts\n",
        "X = add_text_length(dtf, \"text_clean\")"
      ]
    },
    {
      "cell_type": "code",
      "execution_count": null,
      "metadata": {
        "colab": {
          "base_uri": "https://localhost:8080/",
          "height": 233
        },
        "id": "YGFd68SvaXLu",
        "outputId": "1ddfb11c-adb5-455f-e7a3-0dc2c286df6d"
      },
      "outputs": [
        {
          "output_type": "display_data",
          "data": {
            "text/plain": [
              "<Figure size 720x216 with 1 Axes>"
            ],
            "image/png": "[encoded data removed]"
          },
          "metadata": {
            "needs_background": "light"
          }
        }
      ],
      "source": [
        "plot_distributions(X, x=\"word_count\", figsize=(10,3))"
      ]
    },
    {
      "cell_type": "code",
      "execution_count": null,
      "metadata": {
        "id": "u21NQQ4faXLv"
      },
      "outputs": [],
      "source": [
        "X_len = 400"
      ]
    },
    {
      "cell_type": "code",
      "execution_count": null,
      "metadata": {
        "colab": {
          "base_uri": "https://localhost:8080/"
        },
        "id": "TpURA54paXLv",
        "outputId": "7764bdab-5c7c-4af3-c10b-29ef660be155"
      },
      "outputs": [
        {
          "output_type": "stream",
          "name": "stdout",
          "text": [
            "                      min        mean     max\n",
            "char_count           32.0  171.584322  1684.0\n",
            "word_count            5.0   29.202613   290.0\n",
            "sentence_count        1.0    1.000000     1.0\n",
            "avg_word_length       4.0    5.904664     8.5\n",
            "avg_sentence_lenght   5.0   29.202613   290.0\n"
          ]
        }
      ],
      "source": [
        "# Summaries\n",
        "y = add_text_length(dtf, \"label_clean\")"
      ]
    },
    {
      "cell_type": "code",
      "execution_count": null,
      "metadata": {
        "colab": {
          "base_uri": "https://localhost:8080/",
          "height": 233
        },
        "id": "rnUyEegGaXLw",
        "outputId": "d9e6095b-7249-499d-a56c-2af84d4a1d1c"
      },
      "outputs": [
        {
          "output_type": "display_data",
          "data": {
            "text/plain": [
              "<Figure size 720x216 with 1 Axes>"
            ],
            "image/png": "[encoded data removed]"
          },
          "metadata": {
            "needs_background": "light"
          }
        }
      ],
      "source": [
        "plot_distributions(y, x=\"word_count\", max_cat=1, figsize=(10,3))"
      ]
    },
    {
      "cell_type": "code",
      "execution_count": null,
      "metadata": {
        "id": "FzHOhsNsaXLw"
      },
      "outputs": [],
      "source": [
        "y_len = 40"
      ]
    },
    {
      "cell_type": "code",
      "execution_count": null,
      "metadata": {
        "colab": {
          "base_uri": "https://localhost:8080/",
          "height": 337
        },
        "id": "kVR3rOzgaXLx",
        "outputId": "8e37b81f-b784-4c09-9092-34f64997000d"
      },
      "outputs": [
        {
          "output_type": "execute_result",
          "data": {
            "text/plain": [
              "                                                text  \\\n",
              "0  editor 's note : in our behind the scenes seri...   \n",
              "1  london , england -lrb- reuters -rrb- -- harry ...   \n",
              "2  minneapolis , minnesota -lrb- cnn -rrb- -- dri...   \n",
              "3  baghdad , iraq -lrb- cnn -rrb- -- dressed in a...   \n",
              "4  washington -lrb- cnn -rrb- -- doctors removed ...   \n",
              "\n",
              "                                          text_clean  \\\n",
              "0  editor note behind scene series cnn correspond...   \n",
              "1  london england reuters harry potter star danie...   \n",
              "2  minneapolis minnesota cnn driver minneapolis b...   \n",
              "3  baghdad iraq cnn dressed superman shirt 5yearo...   \n",
              "4  washington cnn doctor removed five small polyp...   \n",
              "\n",
              "                                               label  \\\n",
              "0  <t> marseille prosecutor says `` so far no vid...   \n",
              "1  <t> membership gives the icc jurisdiction over...   \n",
              "2  <t> amnesty 's annual death penalty report cat...   \n",
              "3  <t> amnesty international releases its annual ...   \n",
              "4  <t> museum : anne frank died earlier than prev...   \n",
              "\n",
              "                                         label_clean  \n",
              "0  marseille prosecutor say far video used crash ...  \n",
              "1  membership give icc jurisdiction alleged crime...  \n",
              "2  amnesty annual death penalty report catalog en...  \n",
              "3  amnesty international release annual review de...  \n",
              "4  museum anne frank died earlier previously beli...  "
            ],
            "text/html": [
              "\n",
              "  <div id=\"df-7f6a78c8-c379-4d88-abc1-8c564a2c8de5\">\n",
              "    <div class=\"colab-df-container\">\n",
              "      <div>\n",
              "<style scoped>\n",
              "    .dataframe tbody tr th:only-of-type {\n",
              "        vertical-align: middle;\n",
              "    }\n",
              "\n",
              "    .dataframe tbody tr th {\n",
              "        vertical-align: top;\n",
              "    }\n",
              "\n",
              "    .dataframe thead th {\n",
              "        text-align: right;\n",
              "    }\n",
              "</style>\n",
              "<table border=\"1\" class=\"dataframe\">\n",
              "  <thead>\n",
              "    <tr style=\"text-align: right;\">\n",
              "      <th></th>\n",
              "      <th>text</th>\n",
              "      <th>text_clean</th>\n",
              "      <th>label</th>\n",
              "      <th>label_clean</th>\n",
              "    </tr>\n",
              "  </thead>\n",
              "  <tbody>\n",
              "    <tr>\n",
              "      <th>0</th>\n",
              "      <td>editor 's note : in our behind the scenes seri...</td>\n",
              "      <td>editor note behind scene series cnn correspond...</td>\n",
              "      <td>&lt;t&gt; marseille prosecutor says `` so far no vid...</td>\n",
              "      <td>marseille prosecutor say far video used crash ...</td>\n",
              "    </tr>\n",
              "    <tr>\n",
              "      <th>1</th>\n",
              "      <td>london , england -lrb- reuters -rrb- -- harry ...</td>\n",
              "      <td>london england reuters harry potter star danie...</td>\n",
              "      <td>&lt;t&gt; membership gives the icc jurisdiction over...</td>\n",
              "      <td>membership give icc jurisdiction alleged crime...</td>\n",
              "    </tr>\n",
              "    <tr>\n",
              "      <th>2</th>\n",
              "      <td>minneapolis , minnesota -lrb- cnn -rrb- -- dri...</td>\n",
              "      <td>minneapolis minnesota cnn driver minneapolis b...</td>\n",
              "      <td>&lt;t&gt; amnesty 's annual death penalty report cat...</td>\n",
              "      <td>amnesty annual death penalty report catalog en...</td>\n",
              "    </tr>\n",
              "    <tr>\n",
              "      <th>3</th>\n",
              "      <td>baghdad , iraq -lrb- cnn -rrb- -- dressed in a...</td>\n",
              "      <td>baghdad iraq cnn dressed superman shirt 5yearo...</td>\n",
              "      <td>&lt;t&gt; amnesty international releases its annual ...</td>\n",
              "      <td>amnesty international release annual review de...</td>\n",
              "    </tr>\n",
              "    <tr>\n",
              "      <th>4</th>\n",
              "      <td>washington -lrb- cnn -rrb- -- doctors removed ...</td>\n",
              "      <td>washington cnn doctor removed five small polyp...</td>\n",
              "      <td>&lt;t&gt; museum : anne frank died earlier than prev...</td>\n",
              "      <td>museum anne frank died earlier previously beli...</td>\n",
              "    </tr>\n",
              "  </tbody>\n",
              "</table>\n",
              "</div>\n",
              "      <button class=\"colab-df-convert\" onclick=\"convertToInteractive('df-7f6a78c8-c379-4d88-abc1-8c564a2c8de5')\"\n",
              "              title=\"Convert this dataframe to an interactive table.\"\n",
              "              style=\"display:none;\">\n",
              "        \n",
              "  <svg xmlns=\"http://www.w3.org/2000/svg\" height=\"24px\"viewBox=\"0 0 24 24\"\n",
              "       width=\"24px\">\n",
              "    <path d=\"M0 0h24v24H0V0z\" fill=\"none\"/>\n",
              "    <path d=\"M18.56 5.44l.94 2.06.94-2.06 2.06-.94-2.06-.94-.94-2.06-.94 2.06-2.06.94zm-11 1L8.5 8.5l.94-2.06 2.06-.94-2.06-.94L8.5 2.5l-.94 2.06-2.06.94zm10 10l.94 2.06.94-2.06 2.06-.94-2.06-.94-.94-2.06-.94 2.06-2.06.94z\"/><path d=\"M17.41 7.96l-1.37-1.37c-.4-.4-.92-.59-1.43-.59-.52 0-1.04.2-1.43.59L10.3 9.45l-7.72 7.72c-.78.78-.78 2.05 0 2.83L4 21.41c.39.39.9.59 1.41.59.51 0 1.02-.2 1.41-.59l7.78-7.78 2.81-2.81c.8-.78.8-2.07 0-2.86zM5.41 20L4 18.59l7.72-7.72 1.47 1.35L5.41 20z\"/>\n",
              "  </svg>\n",
              "      </button>\n",
              "      \n",
              "  <style>\n",
              "    .colab-df-container {\n",
              "      display:flex;\n",
              "      flex-wrap:wrap;\n",
              "      gap: 12px;\n",
              "    }\n",
              "\n",
              "    .colab-df-convert {\n",
              "      background-color: #E8F0FE;\n",
              "      border: none;\n",
              "      border-radius: 50%;\n",
              "      cursor: pointer;\n",
              "      display: none;\n",
              "      fill: #1967D2;\n",
              "      height: 32px;\n",
              "      padding: 0 0 0 0;\n",
              "      width: 32px;\n",
              "    }\n",
              "\n",
              "    .colab-df-convert:hover {\n",
              "      background-color: #E2EBFA;\n",
              "      box-shadow: 0px 1px 2px rgba(60, 64, 67, 0.3), 0px 1px 3px 1px rgba(60, 64, 67, 0.15);\n",
              "      fill: #174EA6;\n",
              "    }\n",
              "\n",
              "    [theme=dark] .colab-df-convert {\n",
              "      background-color: #3B4455;\n",
              "      fill: #D2E3FC;\n",
              "    }\n",
              "\n",
              "    [theme=dark] .colab-df-convert:hover {\n",
              "      background-color: #434B5C;\n",
              "      box-shadow: 0px 1px 3px 1px rgba(0, 0, 0, 0.15);\n",
              "      filter: drop-shadow(0px 1px 2px rgba(0, 0, 0, 0.3));\n",
              "      fill: #FFFFFF;\n",
              "    }\n",
              "  </style>\n",
              "\n",
              "      <script>\n",
              "        const buttonEl =\n",
              "          document.querySelector('#df-7f6a78c8-c379-4d88-abc1-8c564a2c8de5 button.colab-df-convert');\n",
              "        buttonEl.style.display =\n",
              "          google.colab.kernel.accessAllowed ? 'block' : 'none';\n",
              "\n",
              "        async function convertToInteractive(key) {\n",
              "          const element = document.querySelector('#df-7f6a78c8-c379-4d88-abc1-8c564a2c8de5');\n",
              "          const dataTable =\n",
              "            await google.colab.kernel.invokeFunction('convertToInteractive',\n",
              "                                                     [key], {});\n",
              "          if (!dataTable) return;\n",
              "\n",
              "          const docLinkHtml = 'Like what you see? Visit the ' +\n",
              "            '<a target=\"_blank\" href=https://colab.research.google.com/notebooks/data_table.ipynb>data table notebook</a>'\n",
              "            + ' to learn more about interactive tables.';\n",
              "          element.innerHTML = '';\n",
              "          dataTable['output_type'] = 'display_data';\n",
              "          await google.colab.output.renderOutput(dataTable, element);\n",
              "          const docLink = document.createElement('div');\n",
              "          docLink.innerHTML = docLinkHtml;\n",
              "          element.appendChild(docLink);\n",
              "        }\n",
              "      </script>\n",
              "    </div>\n",
              "  </div>\n",
              "  "
            ]
          },
          "metadata": {},
          "execution_count": 58
        }
      ],
      "source": [
        "dtf = dtf[[\"text\",\"text_clean\",\"label\",\"label_clean\"]]\n",
        "dtf.head()"
      ]
    },
    {
      "cell_type": "markdown",
      "metadata": {
        "id": "XZEZYJiJaXLy"
      },
      "source": [
        "# **After Preprocessing Data**"
      ]
    },
    {
      "cell_type": "code",
      "execution_count": null,
      "metadata": {
        "colab": {
          "base_uri": "https://localhost:8080/",
          "height": 337
        },
        "id": "bR1FXTxVaXLy",
        "outputId": "84e59420-246a-4d46-bec8-dc6daba8e88a"
      },
      "outputs": [
        {
          "output_type": "execute_result",
          "data": {
            "text/plain": [
              "                                                text  \\\n",
              "0  editor 's note : in our behind the scenes seri...   \n",
              "1  london , england -lrb- reuters -rrb- -- harry ...   \n",
              "2  minneapolis , minnesota -lrb- cnn -rrb- -- dri...   \n",
              "3  baghdad , iraq -lrb- cnn -rrb- -- dressed in a...   \n",
              "4  washington -lrb- cnn -rrb- -- doctors removed ...   \n",
              "\n",
              "                                          text_clean  \\\n",
              "0  editor note behind scene series cnn correspond...   \n",
              "1  london england reuters harry potter star danie...   \n",
              "2  minneapolis minnesota cnn driver minneapolis b...   \n",
              "3  baghdad iraq cnn dressed superman shirt 5yearo...   \n",
              "4  washington cnn doctor removed five small polyp...   \n",
              "\n",
              "                                               label  \\\n",
              "0  <t> marseille prosecutor says `` so far no vid...   \n",
              "1  <t> membership gives the icc jurisdiction over...   \n",
              "2  <t> amnesty 's annual death penalty report cat...   \n",
              "3  <t> amnesty international releases its annual ...   \n",
              "4  <t> museum : anne frank died earlier than prev...   \n",
              "\n",
              "                                         label_clean  \n",
              "0  marseille prosecutor say far video used crash ...  \n",
              "1  membership give icc jurisdiction alleged crime...  \n",
              "2  amnesty annual death penalty report catalog en...  \n",
              "3  amnesty international release annual review de...  \n",
              "4  museum anne frank died earlier previously beli...  "
            ],
            "text/html": [
              "\n",
              "  <div id=\"df-d77c2a6d-5e3d-44f4-b3c1-5f6012d3f85e\">\n",
              "    <div class=\"colab-df-container\">\n",
              "      <div>\n",
              "<style scoped>\n",
              "    .dataframe tbody tr th:only-of-type {\n",
              "        vertical-align: middle;\n",
              "    }\n",
              "\n",
              "    .dataframe tbody tr th {\n",
              "        vertical-align: top;\n",
              "    }\n",
              "\n",
              "    .dataframe thead th {\n",
              "        text-align: right;\n",
              "    }\n",
              "</style>\n",
              "<table border=\"1\" class=\"dataframe\">\n",
              "  <thead>\n",
              "    <tr style=\"text-align: right;\">\n",
              "      <th></th>\n",
              "      <th>text</th>\n",
              "      <th>text_clean</th>\n",
              "      <th>label</th>\n",
              "      <th>label_clean</th>\n",
              "    </tr>\n",
              "  </thead>\n",
              "  <tbody>\n",
              "    <tr>\n",
              "      <th>0</th>\n",
              "      <td>editor 's note : in our behind the scenes seri...</td>\n",
              "      <td>editor note behind scene series cnn correspond...</td>\n",
              "      <td>&lt;t&gt; marseille prosecutor says `` so far no vid...</td>\n",
              "      <td>marseille prosecutor say far video used crash ...</td>\n",
              "    </tr>\n",
              "    <tr>\n",
              "      <th>1</th>\n",
              "      <td>london , england -lrb- reuters -rrb- -- harry ...</td>\n",
              "      <td>london england reuters harry potter star danie...</td>\n",
              "      <td>&lt;t&gt; membership gives the icc jurisdiction over...</td>\n",
              "      <td>membership give icc jurisdiction alleged crime...</td>\n",
              "    </tr>\n",
              "    <tr>\n",
              "      <th>2</th>\n",
              "      <td>minneapolis , minnesota -lrb- cnn -rrb- -- dri...</td>\n",
              "      <td>minneapolis minnesota cnn driver minneapolis b...</td>\n",
              "      <td>&lt;t&gt; amnesty 's annual death penalty report cat...</td>\n",
              "      <td>amnesty annual death penalty report catalog en...</td>\n",
              "    </tr>\n",
              "    <tr>\n",
              "      <th>3</th>\n",
              "      <td>baghdad , iraq -lrb- cnn -rrb- -- dressed in a...</td>\n",
              "      <td>baghdad iraq cnn dressed superman shirt 5yearo...</td>\n",
              "      <td>&lt;t&gt; amnesty international releases its annual ...</td>\n",
              "      <td>amnesty international release annual review de...</td>\n",
              "    </tr>\n",
              "    <tr>\n",
              "      <th>4</th>\n",
              "      <td>washington -lrb- cnn -rrb- -- doctors removed ...</td>\n",
              "      <td>washington cnn doctor removed five small polyp...</td>\n",
              "      <td>&lt;t&gt; museum : anne frank died earlier than prev...</td>\n",
              "      <td>museum anne frank died earlier previously beli...</td>\n",
              "    </tr>\n",
              "  </tbody>\n",
              "</table>\n",
              "</div>\n",
              "      <button class=\"colab-df-convert\" onclick=\"convertToInteractive('df-d77c2a6d-5e3d-44f4-b3c1-5f6012d3f85e')\"\n",
              "              title=\"Convert this dataframe to an interactive table.\"\n",
              "              style=\"display:none;\">\n",
              "        \n",
              "  <svg xmlns=\"http://www.w3.org/2000/svg\" height=\"24px\"viewBox=\"0 0 24 24\"\n",
              "       width=\"24px\">\n",
              "    <path d=\"M0 0h24v24H0V0z\" fill=\"none\"/>\n",
              "    <path d=\"M18.56 5.44l.94 2.06.94-2.06 2.06-.94-2.06-.94-.94-2.06-.94 2.06-2.06.94zm-11 1L8.5 8.5l.94-2.06 2.06-.94-2.06-.94L8.5 2.5l-.94 2.06-2.06.94zm10 10l.94 2.06.94-2.06 2.06-.94-2.06-.94-.94-2.06-.94 2.06-2.06.94z\"/><path d=\"M17.41 7.96l-1.37-1.37c-.4-.4-.92-.59-1.43-.59-.52 0-1.04.2-1.43.59L10.3 9.45l-7.72 7.72c-.78.78-.78 2.05 0 2.83L4 21.41c.39.39.9.59 1.41.59.51 0 1.02-.2 1.41-.59l7.78-7.78 2.81-2.81c.8-.78.8-2.07 0-2.86zM5.41 20L4 18.59l7.72-7.72 1.47 1.35L5.41 20z\"/>\n",
              "  </svg>\n",
              "      </button>\n",
              "      \n",
              "  <style>\n",
              "    .colab-df-container {\n",
              "      display:flex;\n",
              "      flex-wrap:wrap;\n",
              "      gap: 12px;\n",
              "    }\n",
              "\n",
              "    .colab-df-convert {\n",
              "      background-color: #E8F0FE;\n",
              "      border: none;\n",
              "      border-radius: 50%;\n",
              "      cursor: pointer;\n",
              "      display: none;\n",
              "      fill: #1967D2;\n",
              "      height: 32px;\n",
              "      padding: 0 0 0 0;\n",
              "      width: 32px;\n",
              "    }\n",
              "\n",
              "    .colab-df-convert:hover {\n",
              "      background-color: #E2EBFA;\n",
              "      box-shadow: 0px 1px 2px rgba(60, 64, 67, 0.3), 0px 1px 3px 1px rgba(60, 64, 67, 0.15);\n",
              "      fill: #174EA6;\n",
              "    }\n",
              "\n",
              "    [theme=dark] .colab-df-convert {\n",
              "      background-color: #3B4455;\n",
              "      fill: #D2E3FC;\n",
              "    }\n",
              "\n",
              "    [theme=dark] .colab-df-convert:hover {\n",
              "      background-color: #434B5C;\n",
              "      box-shadow: 0px 1px 3px 1px rgba(0, 0, 0, 0.15);\n",
              "      filter: drop-shadow(0px 1px 2px rgba(0, 0, 0, 0.3));\n",
              "      fill: #FFFFFF;\n",
              "    }\n",
              "  </style>\n",
              "\n",
              "      <script>\n",
              "        const buttonEl =\n",
              "          document.querySelector('#df-d77c2a6d-5e3d-44f4-b3c1-5f6012d3f85e button.colab-df-convert');\n",
              "        buttonEl.style.display =\n",
              "          google.colab.kernel.accessAllowed ? 'block' : 'none';\n",
              "\n",
              "        async function convertToInteractive(key) {\n",
              "          const element = document.querySelector('#df-d77c2a6d-5e3d-44f4-b3c1-5f6012d3f85e');\n",
              "          const dataTable =\n",
              "            await google.colab.kernel.invokeFunction('convertToInteractive',\n",
              "                                                     [key], {});\n",
              "          if (!dataTable) return;\n",
              "\n",
              "          const docLinkHtml = 'Like what you see? Visit the ' +\n",
              "            '<a target=\"_blank\" href=https://colab.research.google.com/notebooks/data_table.ipynb>data table notebook</a>'\n",
              "            + ' to learn more about interactive tables.';\n",
              "          element.innerHTML = '';\n",
              "          dataTable['output_type'] = 'display_data';\n",
              "          await google.colab.output.renderOutput(dataTable, element);\n",
              "          const docLink = document.createElement('div');\n",
              "          docLink.innerHTML = docLinkHtml;\n",
              "          element.appendChild(docLink);\n",
              "        }\n",
              "      </script>\n",
              "    </div>\n",
              "  </div>\n",
              "  "
            ]
          },
          "metadata": {},
          "execution_count": 59
        }
      ],
      "source": [
        "# Partitioning\n",
        "dtf_train = dtf.iloc[i+1:]\n",
        "dtf_test = dtf.iloc[:i+1]\n",
        "dtf_test"
      ]
    },
    {
      "cell_type": "markdown",
      "metadata": {
        "id": "zKO3wJzPaXLz"
      },
      "source": [
        "# **Model Implementation**\n",
        "- ### Extractive: TextRank"
      ]
    },
    {
      "cell_type": "code",
      "execution_count": null,
      "metadata": {
        "id": "plmKrs4naXLz"
      },
      "outputs": [],
      "source": [
        "# Test (no Train)\n",
        "predicted = textrank(corpus=dtf_test[\"text\"], ratio=y_len/X_len)"
      ]
    },
    {
      "cell_type": "code",
      "execution_count": null,
      "metadata": {
        "colab": {
          "base_uri": "https://localhost:8080/"
        },
        "id": "7vurWHN8aXL0",
        "outputId": "4b3a1444-4208-403e-a33f-dff45423c54c"
      },
      "outputs": [
        {
          "output_type": "stream",
          "name": "stdout",
          "text": [
            "rouge1: 0.08 | rouge2: 0.0 | rougeL: 0.0 --> avg rouge: 0.05\n"
          ]
        }
      ],
      "source": [
        "# Evaluate\n",
        "evaluate_summary(dtf_test[\"label\"][i], predicted[i])"
      ]
    },
    {
      "cell_type": "code",
      "execution_count": null,
      "metadata": {
        "colab": {
          "base_uri": "https://localhost:8080/",
          "height": 156
        },
        "id": "XVJtLP59aXL0",
        "outputId": "3537c51f-d4a5-4baf-d778-d34ad8e53828"
      },
      "outputs": [
        {
          "output_type": "display_data",
          "data": {
            "text/plain": [
              "<IPython.core.display.HTML object>"
            ],
            "text/html": [
              "<strong>Real Summary</strong><br><t> museum <span style=\"background-color:rgba(255,215,0,0.3);\">:</span> anne frank died earlier than previously believed <span style=\"background-color:rgba(255,215,0,0.3);\">.</span> </t> <t> researchers re-examined archives <span style=\"background-color:rgba(255,215,0,0.3);\">and</span> testimonies of survivors <span style=\"background-color:rgba(255,215,0,0.3);\">.</span> </t> <t> anne <span style=\"background-color:rgba(255,215,0,0.3);\">and</span> older sister margot frank are believed <span style=\"background-color:rgba(255,215,0,0.3);\">to</span> have died <span style=\"background-color:rgba(255,215,0,0.3);\">in</span> february 1945 <span style=\"background-color:rgba(255,215,0,0.3);\">.</span> </t><br><br><strong>Predicted Summary</strong><br>washington -lrb- cnn -rrb- <span style=\"background-color:rgba(255,215,0,0.3);\">--</span> doctors removed five small polyps from president bush 's colon on saturday <span style=\"background-color:rgba(255,215,0,0.3);\">,</span> <span style=\"background-color:rgba(255,215,0,0.3);\">and</span> <span style=\"background-color:rgba(255,215,0,0.3);\">``</span> none appeared worrisome <span style=\"background-color:rgba(255,215,0,0.3);\">,</span> <span style=\"background-color:rgba(255,215,0,0.3);\">''</span> a white house spokesman said <span style=\"background-color:rgba(255,215,0,0.3);\">.</span> the polyps were removed <span style=\"background-color:rgba(255,215,0,0.3);\">and</span> sent <span style=\"background-color:rgba(255,215,0,0.3);\">to</span> the national naval medical center <span style=\"background-color:rgba(255,215,0,0.3);\">in</span> bethesda <span style=\"background-color:rgba(255,215,0,0.3);\">,</span> maryland <span style=\"background-color:rgba(255,215,0,0.3);\">,</span> for routine microscopic examination <span style=\"background-color:rgba(255,215,0,0.3);\">,</span> spokesman scott stanzel said <span style=\"background-color:rgba(255,215,0,0.3);\">.</span>"
            ]
          },
          "metadata": {}
        }
      ],
      "source": [
        "# Compare y_test and predicted\n",
        "match = display_string_matching(dtf_test[\"label\"][i], predicted[i], both=True, sentences=False, \n",
        "                                titles=[\"Real Summary\", \"Predicted Summary\"])\n",
        "\n",
        "from IPython.core.display import display, HTML\n",
        "display(HTML(match))"
      ]
    },
    {
      "cell_type": "code",
      "execution_count": null,
      "metadata": {
        "colab": {
          "base_uri": "https://localhost:8080/",
          "height": 451
        },
        "id": "cSmOQCrRaXL1",
        "outputId": "c7476692-efab-4d1d-d055-e6a5f2dd02a9"
      },
      "outputs": [
        {
          "output_type": "display_data",
          "data": {
            "text/plain": [
              "<IPython.core.display.HTML object>"
            ],
            "text/html": [
              "<strong>Full Text</strong><br><span style=\"background-color:rgba(255,215,0,0.3);\">washington -lrb- cnn -rrb- -- doctors removed five small polyps from president bush 's colon on saturday , and `` none appeared worrisome , '' a white house spokesman said .</span> <span style=\"background-color:rgba(255,215,0,0.3);\">the polyps were removed and sent to the national naval medical center in bethesda , maryland , for routine microscopic examination , spokesman scott stanzel said .</span>  results are expected in two to three days . all were small , less than a centimeter -lsb- half an inch -rsb- in diameter , he said . bush is in good humor , stanzel said , and will resume his activities at camp david . during the procedure vice president dick cheney assumed presidential power . bush reclaimed presidential power at 9:21 a.m. after about two hours . doctors used `` monitored anesthesia care , '' stanzel said , so the president was asleep , but not as deeply unconscious as with a true general anesthetic . he spoke to first lady laura bush -- who is in midland , texas , celebrating her mother 's birthday -- before and after the procedure , stanzel said . afterward , the president played with his scottish terriers , barney and miss beazley , stanzel said . he planned to have lunch at camp david and have briefings with national security adviser stephen hadley and white house chief of staff josh bolten , and planned to take a bicycle ride saturday afternoon . cheney , meanwhile , spent the morning at his home on maryland 's eastern shore , reading and playing with his dogs , stanzel said . nothing occurred that required him to take official action as president before bush reclaimed presidential power . the procedure was supervised by dr. richard tubb , bush 's physician , and conducted by a multidisciplinary team from the national naval medical center in bethesda , maryland , the white house said . bush 's last colonoscopy was in june 2002 , and no abnormalities were found , white house spokesman tony snow said . the president 's doctor had recommended a repeat procedure in about five years . a colonoscopy is the most sensitive test for colon cancer , rectal cancer and polyps , small clumps of cells that can become cancerous , according to the mayo clinic . small polyps may be removed during the procedure . snow said on friday that bush had polyps removed during colonoscopies before becoming president . snow himself is undergoing chemotherapy for cancer that began in his colon and spread to his liver . watch snow talk about bush 's procedure and his own colon cancer '' `` the president wants to encourage everybody to use surveillance , '' snow said . the american cancer society recommends that people without high risk factors or symptoms begin getting screened for signs of colorectal cancer at age 50 . e-mail to a friend .<br><br><strong>Predicted Summary</strong><br><span style=\"background-color:rgba(255,215,0,0.3);\">washington -lrb- cnn -rrb- -- doctors removed five small polyps from president bush 's colon on saturday , and `` none appeared worrisome , '' a white house spokesman said .</span> <span style=\"background-color:rgba(255,215,0,0.3);\">the polyps were removed and sent to the national naval medical center in bethesda , maryland , for routine microscopic examination , spokesman scott stanzel said .</span>"
            ]
          },
          "metadata": {}
        }
      ],
      "source": [
        "# Explainability\n",
        "match = display_string_matching(dtf_test[\"text\"][i], predicted[i], both=True, sentences=True, \n",
        "                                titles=[\"Full Text\", \"Predicted Summary\"])\n",
        "\n",
        "from IPython.core.display import display, HTML\n",
        "display(HTML(match))"
      ]
    },
    {
      "cell_type": "markdown",
      "metadata": {
        "id": "hHAAAokoaXL2"
      },
      "source": [
        "###### Features Engineering"
      ]
    },
    {
      "cell_type": "code",
      "execution_count": null,
      "metadata": {
        "colab": {
          "base_uri": "https://localhost:8080/",
          "height": 414
        },
        "id": "toVT8GkoaXL3",
        "outputId": "72c5cb66-3139-4570-8d42-1176070b6d2c"
      },
      "outputs": [
        {
          "output_type": "stream",
          "name": "stdout",
          "text": [
            "--- tokenization ---\n",
            "19834 words\n",
            "--- padding to sequence ---\n",
            "4970 sequences of length 400\n"
          ]
        },
        {
          "output_type": "display_data",
          "data": {
            "text/plain": [
              "<Figure size 1080x360 with 1 Axes>"
            ],
            "image/png": "[encoded data removed]"
          },
          "metadata": {
            "needs_background": "light"
          }
        }
      ],
      "source": [
        "# Create X_train for seq2seq (sequences of tokens)\n",
        "dic_seq = text2seq(corpus=dtf_train[\"text_clean\"], top=X_top_words, maxlen=X_len)\n",
        "\n",
        "X_train, X_tokenizer, X_dic_vocabulary = dic_seq[\"X\"], dic_seq[\"tokenizer\"], dic_seq[\"dic_vocabulary\"]"
      ]
    },
    {
      "cell_type": "code",
      "execution_count": null,
      "metadata": {
        "colab": {
          "base_uri": "https://localhost:8080/"
        },
        "id": "Tjxdh2ImaXL4",
        "outputId": "70aaa541-6317-4f73-d78b-39f74982157e"
      },
      "outputs": [
        {
          "output_type": "execute_result",
          "data": {
            "text/plain": [
              "{'<PAD>': 0, 'cnn': 2, 'nt': 3, 'one': 5, 'people': 4, 'said': 1}"
            ]
          },
          "metadata": {},
          "execution_count": 65
        }
      ],
      "source": [
        "dict(list(X_dic_vocabulary.items())[0:6])"
      ]
    },
    {
      "cell_type": "code",
      "execution_count": null,
      "metadata": {
        "colab": {
          "base_uri": "https://localhost:8080/",
          "height": 397
        },
        "id": "L9SvOBedaXL4",
        "outputId": "a433a7ba-ec51-4e9c-b302-c473a53da2c0"
      },
      "outputs": [
        {
          "output_type": "stream",
          "name": "stdout",
          "text": [
            "--- tokenization ---\n",
            "--- padding to sequence ---\n",
            "5 sequences of length 400\n"
          ]
        },
        {
          "output_type": "display_data",
          "data": {
            "text/plain": [
              "<Figure size 1080x360 with 1 Axes>"
            ],
            "image/png": "[encoded data removed]"
          },
          "metadata": {
            "needs_background": "light"
          }
        }
      ],
      "source": [
        "# Preprocess X_test with the same tokenizer\n",
        "X_test = text2seq(corpus=dtf_test[\"text_clean\"], fitted_tokenizer=X_tokenizer, maxlen=X_train.shape[1])"
      ]
    },
    {
      "cell_type": "code",
      "execution_count": null,
      "metadata": {
        "colab": {
          "base_uri": "https://localhost:8080/",
          "height": 53
        },
        "id": "bSLMO9SvaXL5",
        "outputId": "8031127b-06f1-4488-b3c7-82fa2a3c5734"
      },
      "outputs": [
        {
          "output_type": "execute_result",
          "data": {
            "text/plain": [
              "'<START> museum anne frank died earlier previously believed researcher reexamined archive testimony survivor anne older sister margot frank believed died february 1945 <END>'"
            ],
            "application/vnd.google.colaboratory.intrinsic+json": {
              "type": "string"
            }
          },
          "metadata": {},
          "execution_count": 67
        }
      ],
      "source": [
        "# Add START and END tokens to the summaries (y)\n",
        "special_tokens = (\"<START>\", \"<END>\")\n",
        "dtf_train[\"label_clean\"] = dtf_train['label_clean'].apply(lambda x: special_tokens[0]+' '+x+' '+special_tokens[1])\n",
        "dtf_test[\"label_clean\"] = dtf_test['label_clean'].apply(lambda x: special_tokens[0]+' '+x+' '+special_tokens[1])\n",
        "dtf_test[\"label_clean\"][i]"
      ]
    },
    {
      "cell_type": "code",
      "execution_count": null,
      "metadata": {
        "colab": {
          "base_uri": "https://localhost:8080/",
          "height": 405
        },
        "id": "VccN2NG5aXL5",
        "outputId": "5bd103b1-2fb2-40a3-be8f-b383ed9375ea"
      },
      "outputs": [
        {
          "output_type": "stream",
          "name": "stdout",
          "text": [
            "--- tokenization ---\n",
            "4116 words\n",
            "--- padding to sequence ---\n",
            "4970 sequences of length 40\n"
          ]
        },
        {
          "output_type": "display_data",
          "data": {
            "text/plain": [
              "<Figure size 1080x360 with 1 Axes>"
            ],
            "image/png": "[encoded data removed]"
          },
          "metadata": {
            "needs_background": "light"
          }
        }
      ],
      "source": [
        "# Tokenize the summaries (y_train)\n",
        "dic_seq = text2seq(corpus=dtf_train[\"label_clean\"], top=y_top_words, maxlen=y_len)\n",
        "\n",
        "y_train, y_tokenizer, y_dic_vocabulary = dic_seq[\"X\"], dic_seq[\"tokenizer\"], dic_seq[\"dic_vocabulary\"]"
      ]
    },
    {
      "cell_type": "code",
      "execution_count": null,
      "metadata": {
        "colab": {
          "base_uri": "https://localhost:8080/"
        },
        "id": "3bCI-WOfaXL6",
        "outputId": "427499e2-e329-49e5-8079-d78ae8c7f871"
      },
      "outputs": [
        {
          "output_type": "execute_result",
          "data": {
            "text/plain": [
              "{'<END>': 2, '<PAD>': 0, '<START>': 1, 'league': 4, 'manchester': 5, 'say': 3}"
            ]
          },
          "metadata": {},
          "execution_count": 69
        }
      ],
      "source": [
        "dict(list(y_dic_vocabulary.items())[0:6])"
      ]
    },
    {
      "cell_type": "code",
      "execution_count": null,
      "metadata": {
        "colab": {
          "base_uri": "https://localhost:8080/",
          "height": 388
        },
        "id": "-xC3212daXL6",
        "outputId": "bf57b511-2938-4ca7-d5a7-58e699dd2351"
      },
      "outputs": [
        {
          "output_type": "stream",
          "name": "stdout",
          "text": [
            "--- tokenization ---\n",
            "--- padding to sequence ---\n",
            "5 sequences of length 40\n"
          ]
        },
        {
          "output_type": "display_data",
          "data": {
            "text/plain": [
              "<Figure size 1080x360 with 1 Axes>"
            ],
            "image/png": "[encoded data removed]"
          },
          "metadata": {
            "needs_background": "light"
          }
        }
      ],
      "source": [
        "# Preprocess y_test with the same tokenizer\n",
        "y_test = text2seq(corpus=dtf_test[\"label_clean\"], fitted_tokenizer=y_tokenizer, maxlen=y_train.shape[1])"
      ]
    },
    {
      "cell_type": "markdown",
      "source": [
        "# **Model (Abstractive)**\n",
        "- **Basic Seq2Seq**\n",
        "  - Encoder (pre-trained embeddings LSTM based)\n",
        "  - Decoder (pre-trained embeddings LSTM + Dense Layers)\n",
        "- Advance Sq2Sq\n",
        "  - Encoder (pre-trained embeddings + 3 bi-lstm)\n",
        "  - Decoder (pre-trained embeddings + lstm)"
      ],
      "metadata": {
        "id": "zzazzA8HL6uD"
      }
    },
    {
      "cell_type": "markdown",
      "metadata": {
        "id": "DbZuVjuZaXL7"
      },
      "source": [
        "###### Create Embedding Weights"
      ]
    },
    {
      "cell_type": "code",
      "execution_count": null,
      "metadata": {
        "id": "GHlWrK1eaXL7"
      },
      "outputs": [],
      "source": [
        "# Load pre-trained Word2Vec\n",
        "nlp = gensim_api.load(\"glove-wiki-gigaword-300\")"
      ]
    },
    {
      "cell_type": "code",
      "execution_count": null,
      "metadata": {
        "id": "IaDdiEPNaXL7"
      },
      "outputs": [],
      "source": [
        "# Or train Word2Vec from scratch\n",
        "#corpus =  dtf_train[\"text_clean\"].append(dtf_train[\"y_clean\"])\n",
        "#lst_corpus, nlp = fit_w2v(corpus=corpus, min_count=1, size=300, window=y_avg_len)"
      ]
    },
    {
      "cell_type": "code",
      "execution_count": null,
      "metadata": {
        "colab": {
          "base_uri": "https://localhost:8080/"
        },
        "id": "0FLFkcWyaXL8",
        "outputId": "463aee47-d91d-4621-99a5-e70df36f7b90"
      },
      "outputs": [
        {
          "output_type": "execute_result",
          "data": {
            "text/plain": [
              "(300,)"
            ]
          },
          "metadata": {},
          "execution_count": 73
        }
      ],
      "source": [
        "# check nlp model\n",
        "word = \"dog\"\n",
        "nlp[word].shape"
      ]
    },
    {
      "cell_type": "code",
      "execution_count": null,
      "metadata": {
        "colab": {
          "base_uri": "https://localhost:8080/"
        },
        "id": "N3YyyqG8aXL8",
        "outputId": "c016e0f5-c20b-4e49-c29a-0fa7f301e412"
      },
      "outputs": [
        {
          "output_type": "stream",
          "name": "stdout",
          "text": [
            "vocabulary mapped to 19835 vectors of size 300\n"
          ]
        },
        {
          "output_type": "execute_result",
          "data": {
            "text/plain": [
              "(19835, 300)"
            ]
          },
          "metadata": {},
          "execution_count": 74
        }
      ],
      "source": [
        "X_embeddings = vocabulary_embeddings(X_dic_vocabulary, nlp)\n",
        "X_embeddings.shape"
      ]
    },
    {
      "cell_type": "code",
      "execution_count": null,
      "metadata": {
        "colab": {
          "base_uri": "https://localhost:8080/"
        },
        "id": "g8bgHQVVaXL8",
        "outputId": "8260000b-f7b8-487c-8a1d-5c9e0a125d18"
      },
      "outputs": [
        {
          "output_type": "stream",
          "name": "stdout",
          "text": [
            "vocabulary mapped to 4117 vectors of size 300\n"
          ]
        },
        {
          "output_type": "execute_result",
          "data": {
            "text/plain": [
              "(4117, 300)"
            ]
          },
          "metadata": {},
          "execution_count": 75
        }
      ],
      "source": [
        "y_embeddings = vocabulary_embeddings(y_dic_vocabulary, nlp)\n",
        "y_embeddings.shape"
      ]
    },
    {
      "cell_type": "code",
      "execution_count": null,
      "metadata": {
        "colab": {
          "base_uri": "https://localhost:8080/"
        },
        "id": "ppwDWvSbaXL9",
        "outputId": "f8e3ff6e-4fe8-489f-8c9d-37f7f33eee2d"
      },
      "outputs": [
        {
          "output_type": "stream",
          "name": "stdout",
          "text": [
            "Model: \"Seq2Seq\"\n",
            "__________________________________________________________________________________________________\n",
            " Layer (type)                   Output Shape         Param #     Connected to                     \n",
            "==================================================================================================\n",
            " x_in (InputLayer)              [(None, 400)]        0           []                               \n",
            "                                                                                                  \n",
            " y_in (InputLayer)              [(None, None)]       0           []                               \n",
            "                                                                                                  \n",
            " x_emb (Embedding)              (None, 400, 300)     5950200     ['x_in[0][0]']                   \n",
            "                                                                                                  \n",
            " y_emb (Embedding)              (None, None, 300)    1234800     ['y_in[0][0]']                   \n",
            "                                                                                                  \n",
            " x_lstm (LSTM)                  [(None, 400, 250),   551000      ['x_emb[0][0]']                  \n",
            "                                 (None, 250),                                                     \n",
            "                                 (None, 250)]                                                     \n",
            "                                                                                                  \n",
            " y_lstm (LSTM)                  [(None, None, 250),  551000      ['y_emb[0][0]',                  \n",
            "                                 (None, 250),                     'x_lstm[0][1]',                 \n",
            "                                 (None, 250)]                     'x_lstm[0][2]']                 \n",
            "                                                                                                  \n",
            " dense (TimeDistributed)        (None, None, 4116)   1033116     ['y_lstm[0][0]']                 \n",
            "                                                                                                  \n",
            "==================================================================================================\n",
            "Total params: 9,320,116\n",
            "Trainable params: 9,320,116\n",
            "Non-trainable params: 0\n",
            "__________________________________________________________________________________________________\n"
          ]
        }
      ],
      "source": [
        "# Basic Seq2Seq\n",
        "lstm_units = 250\n",
        "embeddings_size = 300\n",
        "\n",
        "##------------ ENCODER (embeddings + lstm) -----------------------------##\n",
        "x_in = layers.Input(name=\"x_in\", shape=(X_train.shape[1],))\n",
        "### embedding\n",
        "layer_x_emb = layers.Embedding(name=\"x_emb\", input_dim=len(X_dic_vocabulary), output_dim=embeddings_size, \n",
        "                               trainable=True)\n",
        "x_emb = layer_x_emb(x_in)\n",
        "### lstm \n",
        "layer_x_lstm = layers.LSTM(name=\"x_lstm\", units=lstm_units, dropout=0.4,  \n",
        "                           return_sequences=True, return_state=True)\n",
        "x_out, state_h, state_c = layer_x_lstm(x_emb)\n",
        "\n",
        "##------------ DECODER (embeddings + lstm + dense) ---------------------##\n",
        "y_in = layers.Input(name=\"y_in\", shape=(None,))\n",
        "### embedding\n",
        "layer_y_emb = layers.Embedding(name=\"y_emb\", input_dim=len(y_dic_vocabulary), output_dim=embeddings_size, \n",
        "                               trainable=True)\n",
        "y_emb = layer_y_emb(y_in)\n",
        "### lstm \n",
        "layer_y_lstm = layers.LSTM(name=\"y_lstm\", units=lstm_units, dropout=0.4,\n",
        "                           return_sequences=True, return_state=True)\n",
        "y_out, _, _ = layer_y_lstm(y_emb, initial_state=[state_h, state_c])\n",
        "### final dense layers\n",
        "layer_dense = layers.TimeDistributed(name=\"dense\", \n",
        "                                     layer=layers.Dense(units=len(y_dic_vocabulary), activation='softmax'))\n",
        "y_out = layer_dense(y_out)\n",
        "\n",
        "##---------------------------- COMPILE --------------------------------##\n",
        "model = models.Model(inputs=[x_in, y_in], outputs=y_out, name=\"Seq2Seq\")\n",
        "model.compile(optimizer='rmsprop', loss='sparse_categorical_crossentropy', metrics=['accuracy'])\n",
        "\n",
        "model.summary()"
      ]
    },
    {
      "cell_type": "code",
      "execution_count": null,
      "metadata": {
        "colab": {
          "base_uri": "https://localhost:8080/"
        },
        "id": "6CM629JiaXL9",
        "outputId": "5494d25e-8b9d-47f1-9326-c796b62c719f"
      },
      "outputs": [
        {
          "output_type": "stream",
          "name": "stdout",
          "text": [
            "Model: \"Seq2Seq\"\n",
            "__________________________________________________________________________________________________\n",
            " Layer (type)                   Output Shape         Param #     Connected to                     \n",
            "==================================================================================================\n",
            " x_in (InputLayer)              [(None, 400)]        0           []                               \n",
            "                                                                                                  \n",
            " x_emb (Embedding)              (None, 400, 300)     5950500     ['x_in[0][0]']                   \n",
            "                                                                                                  \n",
            " x_lstm_1 (Bidirectional)       [(None, 400, 500),   1102000     ['x_emb[0][0]']                  \n",
            "                                 (None, 250),                                                     \n",
            "                                 (None, 250),                                                     \n",
            "                                 (None, 250),                                                     \n",
            "                                 (None, 250)]                                                     \n",
            "                                                                                                  \n",
            " x_lstm_2 (Bidirectional)       [(None, 400, 500),   1502000     ['x_lstm_1[0][0]']               \n",
            "                                 (None, 250),                                                     \n",
            "                                 (None, 250),                                                     \n",
            "                                 (None, 250),                                                     \n",
            "                                 (None, 250)]                                                     \n",
            "                                                                                                  \n",
            " y_in (InputLayer)              [(None, None)]       0           []                               \n",
            "                                                                                                  \n",
            " x_lstm_3 (Bidirectional)       [(None, 400, 500),   1502000     ['x_lstm_2[0][0]']               \n",
            "                                 (None, 250),                                                     \n",
            "                                 (None, 250),                                                     \n",
            "                                 (None, 250),                                                     \n",
            "                                 (None, 250)]                                                     \n",
            "                                                                                                  \n",
            " y_emb (Embedding)              (None, None, 300)    1235100     ['y_in[0][0]']                   \n",
            "                                                                                                  \n",
            " concatenate (Concatenate)      (None, 500)          0           ['x_lstm_3[0][1]',               \n",
            "                                                                  'x_lstm_3[0][3]']               \n",
            "                                                                                                  \n",
            " concatenate_1 (Concatenate)    (None, 500)          0           ['x_lstm_3[0][2]',               \n",
            "                                                                  'x_lstm_3[0][4]']               \n",
            "                                                                                                  \n",
            " y_lstm (LSTM)                  [(None, None, 500),  1602000     ['y_emb[0][0]',                  \n",
            "                                 (None, 500),                     'concatenate[0][0]',            \n",
            "                                 (None, 500)]                     'concatenate_1[0][0]']          \n",
            "                                                                                                  \n",
            " dense (TimeDistributed)        (None, None, 4116)   2062116     ['y_lstm[0][0]']                 \n",
            "                                                                                                  \n",
            "==================================================================================================\n",
            "Total params: 14,955,716\n",
            "Trainable params: 7,770,116\n",
            "Non-trainable params: 7,185,600\n",
            "__________________________________________________________________________________________________\n"
          ]
        }
      ],
      "source": [
        "# Advanced Seq2Seq\n",
        "lstm_units = 250\n",
        "\n",
        "##------------ ENCODER (pre-trained embeddings + 3 bi-lstm) ---------------##\n",
        "x_in = layers.Input(name=\"x_in\", shape=(X_train.shape[1],))\n",
        "### embedding\n",
        "layer_x_emb = layers.Embedding(name=\"x_emb\", input_dim=X_embeddings.shape[0], output_dim=X_embeddings.shape[1], \n",
        "                               weights=[X_embeddings], trainable=False)\n",
        "x_emb = layer_x_emb(x_in)\n",
        "### bi-lstm 1\n",
        "layer_x_bilstm = layers.Bidirectional(layers.LSTM(units=lstm_units, dropout=0.4, recurrent_dropout=0.4,\n",
        "                                                  return_sequences=True, return_state=True), \n",
        "                                      name=\"x_lstm_1\")\n",
        "x_out, _, _, _, _ = layer_x_bilstm(x_emb)\n",
        "### bi-lstm 2\n",
        "layer_x_bilstm = layers.Bidirectional(layers.LSTM(units=lstm_units, dropout=0.4, recurrent_dropout=0.4,\n",
        "                                                  return_sequences=True, return_state=True),\n",
        "                                      name=\"x_lstm_2\")\n",
        "x_out, _, _, _, _ = layer_x_bilstm(x_out)\n",
        "### bi-lstm 3 (here final states are collected)\n",
        "layer_x_bilstm = layers.Bidirectional(layers.LSTM(units=lstm_units, dropout=0.4, recurrent_dropout=0.4, \n",
        "                                                  return_sequences=True, return_state=True),\n",
        "                                      name=\"x_lstm_3\")\n",
        "x_out, forward_h, forward_c, backward_h, backward_c = layer_x_bilstm(x_out)\n",
        "state_h = layers.Concatenate()([forward_h, backward_h])\n",
        "state_c = layers.Concatenate()([forward_c, backward_c])\n",
        "\n",
        "##------------ DECODER (pre-trained embeddings + lstm + dense) ------------##\n",
        "y_in = layers.Input(name=\"y_in\", shape=(None,))\n",
        "### embedding\n",
        "layer_y_emb = layers.Embedding(name=\"y_emb\", input_dim=y_embeddings.shape[0], output_dim=y_embeddings.shape[1], \n",
        "                               weights=[y_embeddings], trainable=False)\n",
        "y_emb = layer_y_emb(y_in)\n",
        "### lstm\n",
        "layer_y_lstm = layers.LSTM(name=\"y_lstm\", units=lstm_units*2, dropout=0.2, recurrent_dropout=0.2,\n",
        "                           return_sequences=True, return_state=True)\n",
        "y_out, _, _ = layer_y_lstm(y_emb, initial_state=[state_h, state_c])\n",
        "### final dense layers\n",
        "layer_dense = layers.TimeDistributed(name=\"dense\", \n",
        "                                     layer=layers.Dense(units=len(y_dic_vocabulary), activation='softmax'))\n",
        "y_out = layer_dense(y_out)\n",
        "\n",
        "##---------------------------- COMPILE ------------------------------------##\n",
        "model = models.Model(inputs=[x_in, y_in], outputs=y_out, name=\"Seq2Seq\")\n",
        "model.compile(optimizer='rmsprop', loss='sparse_categorical_crossentropy')\n",
        "\n",
        "model.summary()"
      ]
    },
    {
      "cell_type": "code",
      "source": [
        ""
      ],
      "metadata": {
        "id": "VTAvv3KuN3vC"
      },
      "execution_count": null,
      "outputs": []
    },
    {
      "cell_type": "markdown",
      "source": [
        "# **Note : For Sq2Sq model, Require high RAM and GPU. In my case I'm running my model on normal I3-7th Gen base Laptom that doesn n't contains GPU and high RAM Hence, I could not able to train this neural network.**\n",
        "\n",
        "- **But the machemnism is pretty much simple. LSTM and BiLSTM based model.**"
      ],
      "metadata": {
        "id": "2E5TCxmsN5r3"
      }
    },
    {
      "cell_type": "markdown",
      "metadata": {
        "id": "qzgFfEUgaXL-"
      },
      "source": [
        "# **Train**"
      ]
    },
    {
      "cell_type": "code",
      "execution_count": null,
      "metadata": {
        "scrolled": false,
        "colab": {
          "base_uri": "https://localhost:8080/"
        },
        "id": "wN78HbzJaXL-",
        "outputId": "a654e30f-6b51-4343-b69a-156fa4e55536"
      },
      "outputs": [
        {
          "output_type": "stream",
          "name": "stdout",
          "text": [
            "Epoch 1/10\n"
          ]
        }
      ],
      "source": [
        "# This takes a while\n",
        "model = fit_seq2seq(X_train, y_train, model, build_encoder_decoder=False, \n",
        "                    epochs=10, batch_size=64, verbose=1)\n",
        "#model, encoder_model, decoder_model = fit_seq2seq(X_train, y_train, X_embeddings, y_embeddings, model, \n",
        "#                                                  build_encoder_decoder=True, epochs=100, batch_size=64)"
      ]
    },
    {
      "cell_type": "markdown",
      "metadata": {
        "id": "WO2FKIP9aXL_"
      },
      "source": [
        "# **Test**"
      ]
    },
    {
      "cell_type": "code",
      "execution_count": null,
      "metadata": {
        "id": "HYOM9RhlaXL_"
      },
      "outputs": [],
      "source": [
        "# Prediction Encoder\n",
        "encoder_model = models.Model(inputs=x_in, outputs=[x_out, state_h, state_c], name=\"Prediction_Encoder\")\n",
        "encoder_model.summary()"
      ]
    },
    {
      "cell_type": "code",
      "execution_count": null,
      "metadata": {
        "id": "PNFsYRtGaXL_"
      },
      "outputs": [],
      "source": [
        "# Prediction Decoder\n",
        "## double the lstm units if you used bidirectional lstm\n",
        "lstm_units = lstm_units*2 if any(\"Bidirectional\" in str(layer) for layer in model.layers) else lstm_units\n",
        "\n",
        "## states of the previous time step\n",
        "x_out2 = layers.Input(shape=(X_train.shape[1], lstm_units))\n",
        "state_h, state_c = layers.Input(shape=(lstm_units,)), layers.Input(shape=(lstm_units,))\n",
        "\n",
        "## decoder embeddings\n",
        "y_emb2 = layer_y_emb(y_in)\n",
        "\n",
        "## lstm to predict the next word\n",
        "y_out2, new_state_h, new_state_c = layer_y_lstm(y_emb2, initial_state=[state_h, state_c])\n",
        "\n",
        "## softmax to generate probability distribution over the target vocabulary\n",
        "probs = layer_dense(y_out2)\n",
        "\n",
        "## compile\n",
        "decoder_model = models.Model(inputs=[y_in, x_out2, state_h, state_c], \n",
        "                             outputs=[probs, new_state_h, new_state_c],\n",
        "                             name=\"Prediction_Decoder\")\n",
        "decoder_model.summary()"
      ]
    },
    {
      "cell_type": "code",
      "execution_count": null,
      "metadata": {
        "id": "L3S9cTiyaXL_"
      },
      "outputs": [],
      "source": [
        "predicted = predict_seq2seq(X_test, encoder_model, decoder_model, y_tokenizer, special_tokens)"
      ]
    },
    {
      "cell_type": "code",
      "execution_count": null,
      "metadata": {
        "id": "JrSjP8CVaXMA"
      },
      "outputs": [],
      "source": [
        "# Evaluate\n",
        "evaluate_summary(dtf_test[\"y_clean\"][i], predicted[i])"
      ]
    },
    {
      "cell_type": "code",
      "execution_count": null,
      "metadata": {
        "id": "4JtAM4uyaXMA"
      },
      "outputs": [],
      "source": [
        "# Compare y_test and predicted\n",
        "match = display_string_matching(dtf_test[\"y_clean\"][i], predicted[i], both=True, sentences=False, \n",
        "                                titles=[\"Real Summary\", \"Predicted Summary\"])\n",
        "\n",
        "from IPython.core.display import display, HTML\n",
        "display(HTML(match))"
      ]
    },
    {
      "cell_type": "code",
      "execution_count": null,
      "metadata": {
        "id": "a9giJV-0aXMA"
      },
      "outputs": [],
      "source": [
        "# Explainability\n",
        "match = display_string_matching(dtf_test[\"text_clean\"][i], predicted[i], both=True, sentences=False, \n",
        "                                titles=[\"Full Text\", \"Predicted Summary\"])\n",
        "\n",
        "from IPython.core.display import display, HTML\n",
        "display(HTML(match))"
      ]
    },
    {
      "cell_type": "markdown",
      "metadata": {
        "id": "hdgjzlFTaXMB"
      },
      "source": [
        "# **BART Model**"
      ]
    },
    {
      "cell_type": "code",
      "execution_count": null,
      "metadata": {
        "id": "Rj-QvrvCaXMB"
      },
      "outputs": [],
      "source": [
        "# Test (no Train)\n",
        "predicted = bart(corpus=dtf_test[\"text\"], max_len = 40)"
      ]
    },
    {
      "cell_type": "code",
      "execution_count": null,
      "metadata": {
        "id": "UZgfhLGNaXMB",
        "outputId": "4450e56a-a74b-4a7c-b343-84ccfb984e67",
        "colab": {
          "base_uri": "https://localhost:8080/"
        }
      },
      "outputs": [
        {
          "output_type": "stream",
          "name": "stdout",
          "text": [
            "rouge1: 0.08 | rouge2: 0.0 | rougeL: 0.0 --> avg rouge: 0.05\n"
          ]
        }
      ],
      "source": [
        "# Evaluate\n",
        "evaluate_summary(dtf_test[\"label\"][i], predicted[i])"
      ]
    },
    {
      "cell_type": "code",
      "execution_count": null,
      "metadata": {
        "id": "gmNnMLMMaXMB",
        "outputId": "d50a9e49-34d6-4ca9-ead3-2f150e54a4de",
        "colab": {
          "base_uri": "https://localhost:8080/",
          "height": 156
        }
      },
      "outputs": [
        {
          "output_type": "display_data",
          "data": {
            "text/plain": [
              "<IPython.core.display.HTML object>"
            ],
            "text/html": [
              "<strong>Real Summary</strong><br><t> museum <span style=\"background-color:rgba(255,215,0,0.3);\">:</span> anne frank died earlier than previously believed <span style=\"background-color:rgba(255,215,0,0.3);\">.</span> </t> <t> researchers re-examined archives <span style=\"background-color:rgba(255,215,0,0.3);\">and</span> testimonies of survivors <span style=\"background-color:rgba(255,215,0,0.3);\">.</span> </t> <t> anne <span style=\"background-color:rgba(255,215,0,0.3);\">and</span> older sister margot frank are believed <span style=\"background-color:rgba(255,215,0,0.3);\">to</span> have died <span style=\"background-color:rgba(255,215,0,0.3);\">in</span> february 1945 <span style=\"background-color:rgba(255,215,0,0.3);\">.</span> </t><br><br><strong>Predicted Summary</strong><br>washington -lrb- cnn -rrb- <span style=\"background-color:rgba(255,215,0,0.3);\">--</span> doctors removed five small polyps from president bush 's colon on saturday <span style=\"background-color:rgba(255,215,0,0.3);\">,</span> <span style=\"background-color:rgba(255,215,0,0.3);\">and</span> <span style=\"background-color:rgba(255,215,0,0.3);\">``</span> none appeared worrisome <span style=\"background-color:rgba(255,215,0,0.3);\">,</span> <span style=\"background-color:rgba(255,215,0,0.3);\">''</span> a white house spokesman said <span style=\"background-color:rgba(255,215,0,0.3);\">.</span> the polyps were removed <span style=\"background-color:rgba(255,215,0,0.3);\">and</span> sent <span style=\"background-color:rgba(255,215,0,0.3);\">to</span> the national naval medical center <span style=\"background-color:rgba(255,215,0,0.3);\">in</span> bethesda <span style=\"background-color:rgba(255,215,0,0.3);\">,</span> maryland <span style=\"background-color:rgba(255,215,0,0.3);\">,</span> for routine microscopic examination <span style=\"background-color:rgba(255,215,0,0.3);\">,</span> spokesman scott stanzel said <span style=\"background-color:rgba(255,215,0,0.3);\">.</span>"
            ]
          },
          "metadata": {}
        }
      ],
      "source": [
        "# Compare y_test and predicted\n",
        "match = display_string_matching(dtf_test[\"label\"][i], predicted[i], both=True, sentences=False, \n",
        "                                titles=[\"Real Summary\", \"Predicted Summary\"])\n",
        "\n",
        "from IPython.core.display import display, HTML\n",
        "display(HTML(match))"
      ]
    },
    {
      "cell_type": "code",
      "execution_count": null,
      "metadata": {
        "id": "WPkp33wYaXMC",
        "outputId": "43d48a5c-3c1b-4bdc-ce8f-9929d9233b76",
        "colab": {
          "base_uri": "https://localhost:8080/",
          "height": 451
        }
      },
      "outputs": [
        {
          "output_type": "display_data",
          "data": {
            "text/plain": [
              "<IPython.core.display.HTML object>"
            ],
            "text/html": [
              "<strong>Full Text</strong><br><span style=\"background-color:rgba(255,215,0,0.3);\">washington -lrb- cnn -rrb- -- doctors removed five small polyps from president bush 's colon on saturday , and `` none appeared worrisome , '' a white house spokesman said .</span> <span style=\"background-color:rgba(255,215,0,0.3);\">the polyps were removed and sent to the national naval medical center in bethesda , maryland , for routine microscopic examination , spokesman scott stanzel said .</span>  results are expected in two to three days . all were small , less than a centimeter -lsb- half an inch -rsb- in diameter , he said . bush is in good humor , stanzel said , and will resume his activities at camp david . during the procedure vice president dick cheney assumed presidential power . bush reclaimed presidential power at 9:21 a.m. after about two hours . doctors used `` monitored anesthesia care , '' stanzel said , so the president was asleep , but not as deeply unconscious as with a true general anesthetic . he spoke to first lady laura bush -- who is in midland , texas , celebrating her mother 's birthday -- before and after the procedure , stanzel said . afterward , the president played with his scottish terriers , barney and miss beazley , stanzel said . he planned to have lunch at camp david and have briefings with national security adviser stephen hadley and white house chief of staff josh bolten , and planned to take a bicycle ride saturday afternoon . cheney , meanwhile , spent the morning at his home on maryland 's eastern shore , reading and playing with his dogs , stanzel said . nothing occurred that required him to take official action as president before bush reclaimed presidential power . the procedure was supervised by dr. richard tubb , bush 's physician , and conducted by a multidisciplinary team from the national naval medical center in bethesda , maryland , the white house said . bush 's last colonoscopy was in june 2002 , and no abnormalities were found , white house spokesman tony snow said . the president 's doctor had recommended a repeat procedure in about five years . a colonoscopy is the most sensitive test for colon cancer , rectal cancer and polyps , small clumps of cells that can become cancerous , according to the mayo clinic . small polyps may be removed during the procedure . snow said on friday that bush had polyps removed during colonoscopies before becoming president . snow himself is undergoing chemotherapy for cancer that began in his colon and spread to his liver . watch snow talk about bush 's procedure and his own colon cancer '' `` the president wants to encourage everybody to use surveillance , '' snow said . the american cancer society recommends that people without high risk factors or symptoms begin getting screened for signs of colorectal cancer at age 50 . e-mail to a friend .<br><br><strong>Predicted Summary</strong><br><span style=\"background-color:rgba(255,215,0,0.3);\">washington -lrb- cnn -rrb- -- doctors removed five small polyps from president bush 's colon on saturday , and `` none appeared worrisome , '' a white house spokesman said .</span> <span style=\"background-color:rgba(255,215,0,0.3);\">the polyps were removed and sent to the national naval medical center in bethesda , maryland , for routine microscopic examination , spokesman scott stanzel said .</span>"
            ]
          },
          "metadata": {}
        }
      ],
      "source": [
        "# Explainability\n",
        "match = display_string_matching(dtf_test[\"text\"][i], predicted[i], both=True, sentences=True, \n",
        "                                titles=[\"Full Text\", \"Predicted Summary\"])\n",
        "\n",
        "from IPython.core.display import display, HTML\n",
        "display(HTML(match))"
      ]
    }
  ],
  "metadata": {
    "kernelspec": {
      "display_name": "Python 3",
      "language": "python",
      "name": "python3"
    },
    "language_info": {
      "codemirror_mode": {
        "name": "ipython",
        "version": 3
      },
      "file_extension": ".py",
      "mimetype": "text/x-python",
      "name": "python",
      "nbconvert_exporter": "python",
      "pygments_lexer": "ipython3",
      "version": "3.6.12"
    },
    "colab": {
      "name": "Text_Summarization_Extractive_Abstractive.ipynb",
      "provenance": [],
      "collapsed_sections": []
    }
  },
  "nbformat": 4,
  "nbformat_minor": 0
}